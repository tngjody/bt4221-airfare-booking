{
  "cells": [
    {
      "cell_type": "markdown",
      "metadata": {
        "colab_type": "text",
        "id": "view-in-github"
      },
      "source": [
        "<a href=\"https://colab.research.google.com/github/tngjody/bt4221-airfare-booking/blob/main/BT4221_Group_20.ipynb\" target=\"_parent\"><img src=\"https://colab.research.google.com/assets/colab-badge.svg\" alt=\"Open In Colab\"/></a>"
      ]
    },
    {
      "cell_type": "markdown",
      "metadata": {
        "id": "rFbdmF4RNTOL"
      },
      "source": [
        "# BT4221 Group 20: Optimising Airfare Booking with Predictive Analytics\n",
        "\n",
        "Group Members:\n",
        "\n",
        "Gong Yongjia A0286144X\n",
        "\n",
        "Jody Tng Jin Zi A0238195W\n",
        "\n",
        "Wu Shuhan A0266501L\n",
        "\n",
        "Zhou Jingchu Jeslyn A0275993H"
      ]
    },
    {
      "cell_type": "markdown",
      "metadata": {},
      "source": [
        "### Importing Libraries"
      ]
    },
    {
      "cell_type": "code",
      "execution_count": 3,
      "metadata": {},
      "outputs": [],
      "source": [
        "# PySpark Imports\n",
        "from pyspark.sql import SparkSession\n",
        "from pyspark.sql import functions as F\n",
        "from pyspark.sql.functions import col, sum, isnan, datediff, lit\n",
        "from pyspark.sql.types import NumericType, DoubleType, IntegerType, FloatType\n",
        "from pyspark.ml.stat import Correlation\n",
        "from pyspark.ml.feature import VectorAssembler, StringIndexer\n",
        "\n",
        "# Visualization Imports\n",
        "import matplotlib.pyplot as plt\n",
        "import seaborn as sns\n",
        "import numpy as np\n",
        "\n",
        "# Other Imports\n",
        "from datetime import datetime"
      ]
    },
    {
      "cell_type": "markdown",
      "metadata": {
        "id": "ex5YtpnLRdMP"
      },
      "source": [
        "# 1. Data Loading & Preprocessing"
      ]
    },
    {
      "cell_type": "markdown",
      "metadata": {},
      "source": [
        "### Initialize Spark Session & Load Dataset"
      ]
    },
    {
      "cell_type": "code",
      "execution_count": 4,
      "metadata": {
        "colab": {
          "base_uri": "https://localhost:8080/"
        },
        "id": "NMeWsqcbRaFz",
        "outputId": "bb23d229-b0f4-48cd-9684-aef1305afad5"
      },
      "outputs": [
        {
          "name": "stdout",
          "output_type": "stream",
          "text": [
            "+--------------------------------+----------+----------+---------------+------------------+-------------+--------------+-----------+--------------+------------+---------+--------+---------+--------------+-------------------+---------------------------------+------------------------------------------------------------+-------------------------------+------------------------------------------------------------+--------------------------+----------------------------+-------------------+-------------------+------------------------------+-------------------------+----------------+-----------------+\n",
            "|legId                           |searchDate|flightDate|startingAirport|destinationAirport|fareBasisCode|travelDuration|elapsedDays|isBasicEconomy|isRefundable|isNonStop|baseFare|totalFare|seatsRemaining|totalTravelDistance|segmentsDepartureTimeEpochSeconds|segmentsDepartureTimeRaw                                    |segmentsArrivalTimeEpochSeconds|segmentsArrivalTimeRaw                                      |segmentsArrivalAirportCode|segmentsDepartureAirportCode|segmentsAirlineName|segmentsAirlineCode|segmentsEquipmentDescription  |segmentsDurationInSeconds|segmentsDistance|segmentsCabinCode|\n",
            "+--------------------------------+----------+----------+---------------+------------------+-------------+--------------+-----------+--------------+------------+---------+--------+---------+--------------+-------------------+---------------------------------+------------------------------------------------------------+-------------------------------+------------------------------------------------------------+--------------------------+----------------------------+-------------------+-------------------+------------------------------+-------------------------+----------------+-----------------+\n",
            "|620cd51404373b9bdbbc46a0b657573c|2022-05-29|2022-06-18|LAX            |ATL               |Y0N          |PT4H19M       |0          |false         |false       |true     |943.26  |1028.61  |7             |1943               |1655591400                       |2022-06-18T15:30:00.000-07:00                               |1655606940                     |2022-06-18T22:49:00.000-04:00                               |ATL                       |LAX                         |Delta              |DL                 |Airbus A321                   |15540                    |1943            |coach            |\n",
            "|8622d132e890b398c0ad1d62b0232f54|2022-05-03|2022-06-24|CLT            |LAX               |MA0OA0MQ     |PT8H10M       |0          |false         |false       |false    |479.07  |537.1    |9             |2171               |1656073800||1656086520           |2022-06-24T08:30:00.000-04:00||2022-06-24T12:02:00.000-04:00|1656078240||1656103200         |2022-06-24T09:44:00.000-04:00||2022-06-24T13:40:00.000-07:00|ATL||LAX                  |CLT||ATL                    |Delta||Delta       |DL||DL             |Boeing 717||Airbus A321       |4440||16680              |228||1943       |coach||coach     |\n",
            "|6f419788769ddb3802d047272ad0a54d|2022-05-02|2022-06-30|LGA            |ATL               |LAVQA0ML     |PT11H54M      |1          |false         |false       |false    |328.38  |382.21   |9             |1700               |1656633540||1656669600           |2022-06-30T19:59:00.000-04:00||2022-07-01T06:00:00.000-04:00|1656645360||1656676380         |2022-06-30T23:16:00.000-04:00||2022-07-01T07:53:00.000-04:00|MIA||ATL                  |LGA||MIA                    |Delta||Delta       |DL||DL             |Boeing 737-800||Boeing 737-900|11820||6780              |1104||596       |coach||coach     |\n",
            "|41f3cd0a63603895e13b5b77630bd84e|2022-06-10|2022-08-04|LAX            |SFO               |MH7OASMN     |PT1H20M       |0          |false         |false       |true     |189.77  |218.6    |7             |339                |1659664800                       |2022-08-04T19:00:00.000-07:00                               |1659669600                     |2022-08-04T20:20:00.000-07:00                               |SFO                       |LAX                         |Alaska Airlines    |AS                 |Embraer 175                   |4800                     |339             |coach            |\n",
            "|7f5d8684b672dd3593e30ee946264c31|2022-06-24|2022-07-20|LGA            |DFW               |LAVQA0BQ     |PT6H41M       |0          |true          |false       |false    |171.16  |207.6    |9             |1487               |1658327700||1658343300           |2022-07-20T10:35:00.000-04:00||2022-07-20T14:55:00.000-04:00|1658337240||1658351760         |2022-07-20T13:14:00.000-04:00||2022-07-20T16:16:00.000-05:00|ATL||DFW                  |LGA||ATL                    |Delta||Delta       |DL||DL             |Airbus A320||Airbus A321      |9540||8460               |762||725        |coach||coach     |\n",
            "+--------------------------------+----------+----------+---------------+------------------+-------------+--------------+-----------+--------------+------------+---------+--------+---------+--------------+-------------------+---------------------------------+------------------------------------------------------------+-------------------------------+------------------------------------------------------------+--------------------------+----------------------------+-------------------+-------------------+------------------------------+-------------------------+----------------+-----------------+\n",
            "only showing top 5 rows\n",
            "\n",
            "root\n",
            " |-- legId: string (nullable = true)\n",
            " |-- searchDate: date (nullable = true)\n",
            " |-- flightDate: date (nullable = true)\n",
            " |-- startingAirport: string (nullable = true)\n",
            " |-- destinationAirport: string (nullable = true)\n",
            " |-- fareBasisCode: string (nullable = true)\n",
            " |-- travelDuration: string (nullable = true)\n",
            " |-- elapsedDays: integer (nullable = true)\n",
            " |-- isBasicEconomy: boolean (nullable = true)\n",
            " |-- isRefundable: boolean (nullable = true)\n",
            " |-- isNonStop: boolean (nullable = true)\n",
            " |-- baseFare: double (nullable = true)\n",
            " |-- totalFare: double (nullable = true)\n",
            " |-- seatsRemaining: integer (nullable = true)\n",
            " |-- totalTravelDistance: integer (nullable = true)\n",
            " |-- segmentsDepartureTimeEpochSeconds: string (nullable = true)\n",
            " |-- segmentsDepartureTimeRaw: string (nullable = true)\n",
            " |-- segmentsArrivalTimeEpochSeconds: string (nullable = true)\n",
            " |-- segmentsArrivalTimeRaw: string (nullable = true)\n",
            " |-- segmentsArrivalAirportCode: string (nullable = true)\n",
            " |-- segmentsDepartureAirportCode: string (nullable = true)\n",
            " |-- segmentsAirlineName: string (nullable = true)\n",
            " |-- segmentsAirlineCode: string (nullable = true)\n",
            " |-- segmentsEquipmentDescription: string (nullable = true)\n",
            " |-- segmentsDurationInSeconds: string (nullable = true)\n",
            " |-- segmentsDistance: string (nullable = true)\n",
            " |-- segmentsCabinCode: string (nullable = true)\n",
            "\n"
          ]
        }
      ],
      "source": [
        "# Initialize Spark Sesison\n",
        "spark = SparkSession.builder.appName(\"FlightPrices\").getOrCreate()\n",
        "\n",
        "# Load Dataset\n",
        "flight_df = spark.read.csv(\"flight.csv\", header=True, inferSchema=True)\n",
        "\n",
        "# Show a sample (5 rows) of the data\n",
        "flight_df.show(5, truncate=False)\n",
        "\n",
        "# Display schema\n",
        "flight_df.printSchema()"
      ]
    },
    {
      "cell_type": "markdown",
      "metadata": {},
      "source": [
        "# 2. Feature Engineering"
      ]
    },
    {
      "cell_type": "markdown",
      "metadata": {},
      "source": [
        "### To include one-hot encoding below ensure all new columns are added to the df"
      ]
    },
    {
      "cell_type": "code",
      "execution_count": null,
      "metadata": {},
      "outputs": [
        {
          "name": "stdout",
          "output_type": "stream",
          "text": [
            "root\n",
            " |-- legId: string (nullable = true)\n",
            " |-- flightDate: date (nullable = true)\n",
            " |-- searchDate: date (nullable = true)\n",
            " |-- startingAirport: string (nullable = true)\n",
            " |-- destinationAirport: string (nullable = true)\n",
            " |-- fareBasisCode: string (nullable = true)\n",
            " |-- travelDuration: string (nullable = true)\n",
            " |-- elapsedDays: integer (nullable = true)\n",
            " |-- isBasicEconomy: boolean (nullable = true)\n",
            " |-- isRefundable: boolean (nullable = true)\n",
            " |-- isNonStop: boolean (nullable = true)\n",
            " |-- baseFare: double (nullable = true)\n",
            " |-- totalFare: double (nullable = true)\n",
            " |-- seatsRemaining: integer (nullable = true)\n",
            " |-- totalTravelDistance: integer (nullable = true)\n",
            " |-- segmentsDepartureTimeEpochSeconds: string (nullable = true)\n",
            " |-- segmentsDepartureTimeRaw: string (nullable = true)\n",
            " |-- segmentsArrivalTimeEpochSeconds: string (nullable = true)\n",
            " |-- segmentsArrivalTimeRaw: string (nullable = true)\n",
            " |-- segmentsArrivalAirportCode: string (nullable = true)\n",
            " |-- segmentsDepartureAirportCode: string (nullable = true)\n",
            " |-- segmentsAirlineName: string (nullable = true)\n",
            " |-- segmentsAirlineCode: string (nullable = true)\n",
            " |-- segmentsEquipmentDescription: string (nullable = true)\n",
            " |-- segmentsDurationInSeconds: string (nullable = true)\n",
            " |-- segmentsDistance: string (nullable = true)\n",
            " |-- segmentsCabinCode: string (nullable = true)\n",
            " |-- airportPair: string (nullable = false)\n",
            " |-- numSegments: integer (nullable = false)\n",
            " |-- isNearFestival: integer (nullable = true)\n",
            "\n",
            "+--------------------------------+----------+----------+---------------+------------------+-------------+--------------+-----------+--------------+------------+---------+--------+---------+--------------+-------------------+---------------------------------+------------------------------------------------------------+-------------------------------+------------------------------------------------------------+--------------------------+----------------------------+-------------------+-------------------+------------------------------+-------------------------+----------------+-----------------+-----------+-----------+--------------+\n",
            "|legId                           |flightDate|searchDate|startingAirport|destinationAirport|fareBasisCode|travelDuration|elapsedDays|isBasicEconomy|isRefundable|isNonStop|baseFare|totalFare|seatsRemaining|totalTravelDistance|segmentsDepartureTimeEpochSeconds|segmentsDepartureTimeRaw                                    |segmentsArrivalTimeEpochSeconds|segmentsArrivalTimeRaw                                      |segmentsArrivalAirportCode|segmentsDepartureAirportCode|segmentsAirlineName|segmentsAirlineCode|segmentsEquipmentDescription  |segmentsDurationInSeconds|segmentsDistance|segmentsCabinCode|airportPair|numSegments|isNearFestival|\n",
            "+--------------------------------+----------+----------+---------------+------------------+-------------+--------------+-----------+--------------+------------+---------+--------+---------+--------------+-------------------+---------------------------------+------------------------------------------------------------+-------------------------------+------------------------------------------------------------+--------------------------+----------------------------+-------------------+-------------------+------------------------------+-------------------------+----------------+-----------------+-----------+-----------+--------------+\n",
            "|6f419788769ddb3802d047272ad0a54d|2022-06-30|2022-05-02|LGA            |ATL               |LAVQA0ML     |PT11H54M      |1          |false         |false       |false    |328.38  |382.21   |9             |1700               |1656633540||1656669600           |2022-06-30T19:59:00.000-04:00||2022-07-01T06:00:00.000-04:00|1656645360||1656676380         |2022-06-30T23:16:00.000-04:00||2022-07-01T07:53:00.000-04:00|MIA||ATL                  |LGA||MIA                    |Delta||Delta       |DL||DL             |Boeing 737-800||Boeing 737-900|11820||6780              |1104||596       |coach||coach     |LGA_ATL    |2          |0             |\n",
            "|7f5d8684b672dd3593e30ee946264c31|2022-07-20|2022-06-24|LGA            |DFW               |LAVQA0BQ     |PT6H41M       |0          |true          |false       |false    |171.16  |207.6    |9             |1487               |1658327700||1658343300           |2022-07-20T10:35:00.000-04:00||2022-07-20T14:55:00.000-04:00|1658337240||1658351760         |2022-07-20T13:14:00.000-04:00||2022-07-20T16:16:00.000-05:00|ATL||DFW                  |LGA||ATL                    |Delta||Delta       |DL||DL             |Airbus A320||Airbus A321      |9540||8460               |762||725        |coach||coach     |LGA_DFW    |2          |0             |\n",
            "|5b5f142a97c3749a57da4d869b0540e2|2022-04-30|2022-04-19|DFW            |DEN               |SAA1AKEN     |PT2H6M        |0          |false         |false       |true     |110.7   |133.6    |9             |650                |1651356240                       |2022-04-30T17:04:00.000-05:00                               |1651363800                     |2022-04-30T18:10:00.000-06:00                               |DEN                       |DFW                         |United             |UA                 |Airbus A320                   |7560                     |650             |coach            |DFW_DEN    |1          |0             |\n",
            "|41f3cd0a63603895e13b5b77630bd84e|2022-08-04|2022-06-10|LAX            |SFO               |MH7OASMN     |PT1H20M       |0          |false         |false       |true     |189.77  |218.6    |7             |339                |1659664800                       |2022-08-04T19:00:00.000-07:00                               |1659669600                     |2022-08-04T20:20:00.000-07:00                               |SFO                       |LAX                         |Alaska Airlines    |AS                 |Embraer 175                   |4800                     |339             |coach            |LAX_SFO    |1          |0             |\n",
            "|8622d132e890b398c0ad1d62b0232f54|2022-06-24|2022-05-03|CLT            |LAX               |MA0OA0MQ     |PT8H10M       |0          |false         |false       |false    |479.07  |537.1    |9             |2171               |1656073800||1656086520           |2022-06-24T08:30:00.000-04:00||2022-06-24T12:02:00.000-04:00|1656078240||1656103200         |2022-06-24T09:44:00.000-04:00||2022-06-24T13:40:00.000-07:00|ATL||LAX                  |CLT||ATL                    |Delta||Delta       |DL||DL             |Boeing 717||Airbus A321       |4440||16680              |228||1943       |coach||coach     |CLT_LAX    |2          |0             |\n",
            "+--------------------------------+----------+----------+---------------+------------------+-------------+--------------+-----------+--------------+------------+---------+--------+---------+--------------+-------------------+---------------------------------+------------------------------------------------------------+-------------------------------+------------------------------------------------------------+--------------------------+----------------------------+-------------------+-------------------+------------------------------+-------------------------+----------------+-----------------+-----------+-----------+--------------+\n",
            "only showing top 5 rows\n",
            "\n"
          ]
        }
      ],
      "source": [
        "date_cols = [\"searchDate\", \"flightDate\"]\n",
        "\n",
        "# Convert columns to Date type if they are in the list of date columns\n",
        "for col_name in date_cols:\n",
        "    if col_name in flight_df.columns:\n",
        "        flight_df = flight_df.withColumn(\n",
        "            col_name, F.to_date(F.col(col_name), \"yyyy-MM-dd\")\n",
        "        )\n",
        "\n",
        "# Create a new column 'airport_pair' by combining 'startingAirport' and 'destinationAirport'\n",
        "flight_df = flight_df.withColumn(\n",
        "    \"airportPair\", F.concat_ws(\"_\", \"startingAirport\", \"destinationAirport\")\n",
        ")\n",
        "\n",
        "# Split the `segmentsAirlineCode` by '||' and count the number of elements (segments)\n",
        "flight_df = flight_df.withColumn(\n",
        "    \"numSegments\",\n",
        "    F.size(\n",
        "        F.split(\"segmentsAirlineCode\", \"\\|\\|\")\n",
        "    ),  # Split the '||' and count the number of elements\n",
        ")\n",
        "\n",
        "# List of festival dates\n",
        "festivals = [\n",
        "    \"2023-01-01\",  # New Year's Day\n",
        "    \"2023-01-22\",  # Lunar New Year\n",
        "    \"2023-02-14\",  # Valentine's Day\n",
        "    \"2023-03-17\",  # St. Patrick's Day\n",
        "    \"2023-04-07\",  # Good Friday\n",
        "    \"2023-04-09\",  # Easter Sunday\n",
        "    \"2023-04-22\",  # Earth Day\n",
        "    \"2023-05-01\",  # International Workers' Day (May Day)\n",
        "    \"2023-06-29\",  # Eid al-Adha\n",
        "    \"2023-07-04\",  # Independence Day (USA)\n",
        "    \"2023-10-31\",  # Halloween\n",
        "    \"2023-11-23\",  # Thanksgiving (USA)\n",
        "    \"2023-12-25\",  # Christmas Day\n",
        "]\n",
        "\n",
        "festival_dates = [datetime.strptime(date, \"%Y-%m-%d\").date() for date in festivals]\n",
        "\n",
        "festival_df = spark.createDataFrame(\n",
        "    [(date,) for date in festival_dates], [\"festivalDate\"]\n",
        ")\n",
        "festival_df = festival_df.withColumn(\"festivalDate\", col(\"festivalDate\").cast(\"date\"))\n",
        "\n",
        "# Perform a cross join and filter for flights near festivals\n",
        "joined_df = flight_df.crossJoin(festival_df).filter(\n",
        "    (datediff(col(\"flightDate\"), col(\"festivalDate\")) >= -1)\n",
        "    & (datediff(col(\"flightDate\"), col(\"festivalDate\")) <= 1)\n",
        ")\n",
        "\n",
        "# Create a temporary view with a clear column name to avoid ambiguity\n",
        "temp_festival_flights = (\n",
        "    joined_df.select(\"legId\", \"flightDate\")\n",
        "    .distinct()\n",
        "    .withColumn(\"isNearFestival\", lit(1))\n",
        ")\n",
        "\n",
        "# Perform the join using the temporary view\n",
        "flight_df = flight_df.join(\n",
        "    temp_festival_flights, on=[\"legId\", \"flightDate\"], how=\"left\"\n",
        ")\n",
        "\n",
        "# Fill null values in isNearFestival with 0\n",
        "flight_df = flight_df.fillna(0, subset=[\"isNearFestival\"])\n",
        "\n",
        "# Drop the temporary view\n",
        "temp_festival_flights.drop()\n",
        "\n",
        "# Show updated schema\n",
        "flight_df.printSchema()\n",
        "\n",
        "# Show a sample (5 rows) of the data\n",
        "flight_df.show(5, truncate=False)"
      ]
    },
    {
      "cell_type": "markdown",
      "metadata": {},
      "source": [
        "#### Disscusion on the additional features added\n",
        "\n",
        "**1. Feature Created: \"airport_pair\"**\n",
        "**Intended Benefit:**\n",
        "\n",
        "**Example Interpretation:**\n",
        "\n",
        " **Usefulness:**"
      ]
    },
    {
      "cell_type": "markdown",
      "metadata": {
        "id": "4VvG4vWmWo4f"
      },
      "source": [
        "# 3. Data Cleaning "
      ]
    },
    {
      "cell_type": "markdown",
      "metadata": {},
      "source": [
        "### Drop Duplicates"
      ]
    },
    {
      "cell_type": "code",
      "execution_count": 6,
      "metadata": {},
      "outputs": [
        {
          "name": "stdout",
          "output_type": "stream",
          "text": [
            "Number of rows after dropping duplicates: 2000000\n",
            "Number of columns: 30\n"
          ]
        }
      ],
      "source": [
        "# Remove rows with null values\n",
        "\n",
        "# Drop duplicates\n",
        "flight_df = flight_df.dropDuplicates()\n",
        "\n",
        "# Final Count\n",
        "flight_df.count()\n",
        "\n",
        "print(f\"Number of rows after dropping duplicates: {flight_df.count()}\")\n",
        "print(f\"Number of columns: {len(flight_df.columns)}\")"
      ]
    },
    {
      "cell_type": "code",
      "execution_count": null,
      "metadata": {
        "colab": {
          "base_uri": "https://localhost:8080/"
        },
        "id": "65VUsswDYIl4",
        "outputId": "699a2d11-d315-4aab-cc20-90cfaf74baf5"
      },
      "outputs": [
        {
          "name": "stdout",
          "output_type": "stream",
          "text": [
            "+-----+----------+----------+---------------+------------------+-------------+--------------+-----------+--------------+------------+---------+--------+---------+--------------+-------------------+---------------------------------+------------------------+-------------------------------+----------------------+--------------------------+----------------------------+-------------------+-------------------+----------------------------+-------------------------+----------------+-----------------+-----------+-----------+--------------+\n",
            "|legId|flightDate|searchDate|startingAirport|destinationAirport|fareBasisCode|travelDuration|elapsedDays|isBasicEconomy|isRefundable|isNonStop|baseFare|totalFare|seatsRemaining|totalTravelDistance|segmentsDepartureTimeEpochSeconds|segmentsDepartureTimeRaw|segmentsArrivalTimeEpochSeconds|segmentsArrivalTimeRaw|segmentsArrivalAirportCode|segmentsDepartureAirportCode|segmentsAirlineName|segmentsAirlineCode|segmentsEquipmentDescription|segmentsDurationInSeconds|segmentsDistance|segmentsCabinCode|airportPair|numSegments|isNearFestival|\n",
            "+-----+----------+----------+---------------+------------------+-------------+--------------+-----------+--------------+------------+---------+--------+---------+--------------+-------------------+---------------------------------+------------------------+-------------------------------+----------------------+--------------------------+----------------------------+-------------------+-------------------+----------------------------+-------------------------+----------------+-----------------+-----------+-----------+--------------+\n",
            "|    0|         0|         0|              0|                 0|            0|             0|          0|             0|           0|        0|       0|        0|             0|             155156|                                0|                       0|                              0|                     0|                         0|                           0|                  0|                  0|                       39914|                        0|               0|                0|          0|          0|             0|\n",
            "+-----+----------+----------+---------------+------------------+-------------+--------------+-----------+--------------+------------+---------+--------+---------+--------------+-------------------+---------------------------------+------------------------+-------------------------------+----------------------+--------------------------+----------------------------+-------------------+-------------------+----------------------------+-------------------------+----------------+-----------------+-----------+-----------+--------------+\n",
            "\n"
          ]
        }
      ],
      "source": [
        "# Build expressions to count missing values (null and NaN for numeric columns; null only otherwise)\n",
        "missing_exprs = []\n",
        "for field in flight_df.schema.fields:\n",
        "    if isinstance(field.dataType, NumericType):\n",
        "        # For numeric columns, count both nulls and NaNs\n",
        "        expr = sum(\n",
        "            (col(field.name).isNull() | isnan(col(field.name))).cast(\"int\")\n",
        "        ).alias(field.name)\n",
        "    else:\n",
        "        # For non-numeric columns, count only nulls\n",
        "        expr = sum(col(field.name).isNull().cast(\"int\")).alias(field.name)\n",
        "    missing_exprs.append(expr)\n",
        "\n",
        "# Compute missing values count per column\n",
        "missing_counts = flight_df.select(*missing_exprs)\n",
        "missing_counts.show()"
      ]
    },
    {
      "cell_type": "markdown",
      "metadata": {},
      "source": [
        "### need to populate the missing totalTravelDistance\n",
        "\n",
        "for segmentsEquipmentDescription, ignore cos not important"
      ]
    },
    {
      "cell_type": "code",
      "execution_count": null,
      "metadata": {},
      "outputs": [],
      "source": [
        "# populate missing values "
      ]
    },
    {
      "cell_type": "markdown",
      "metadata": {},
      "source": [
        "# 4. Data Exploration"
      ]
    },
    {
      "cell_type": "markdown",
      "metadata": {},
      "source": [
        "### Distribution of Categorical Columns"
      ]
    },
    {
      "cell_type": "code",
      "execution_count": null,
      "metadata": {},
      "outputs": [],
      "source": [
        "categorical_cols = ['startingAirport', 'destinationAirport', 'isBasicEconomy', 'isRefundable', 'isNonStop']\n",
        "\n",
        "def explore_categorical(df, column):\n",
        "    category_counts = df.groupBy(column).agg(F.count(\"*\").alias(\"count\")).orderBy(F.col(\"count\").desc())\n",
        "    category_counts.show(5, truncate=False) # Show top 5 categories\n",
        "\n",
        "# Explore frequency counts for categorical columns\n",
        "for col_name in categorical_cols:\n",
        "    explore_categorical(flight_df, col_name) \n",
        "\n",
        "# Fare Distribution by Airline\n",
        "if 'segmentsAirlineCode' in flight_df.columns:\n",
        "    # Extract the first airline code for each flight\n",
        "    flight_df = flight_df.withColumn('primaryAirline', F.split(F.col('segmentsAirlineCode'), r'\\|\\|').getItem(0)) \n",
        "    \n",
        "    # Calculate fare statistics by airline\n",
        "    airline_stats = flight_df.groupBy(\"primaryAirline\").agg(\n",
        "        F.count(\"*\").alias(\"count\"),\n",
        "        F.mean(\"baseFare\").alias(\"mean_fare\"),\n",
        "        F.stddev(\"baseFare\").alias(\"stddev_fare\"),\n",
        "        F.min(\"baseFare\").alias(\"min_fare\"),\n",
        "        F.max(\"baseFare\").alias(\"max_fare\"),\n",
        "        F.percentile_approx(\"baseFare\", [0.25, 0.5, 0.75], 10000).alias(\"percentiles\")\n",
        "    ).orderBy(F.col(\"count\").desc())\n",
        "    "
      ]
    },
    {
      "cell_type": "code",
      "execution_count": null,
      "metadata": {},
      "outputs": [],
      "source": [
        "# Filter out rows with inconsistent 'numSegments' for the same 'airportPair'\n",
        "numerical_cols = [col for col, dtype in flight_df.dtypes if dtype in (\"int\", \"double\")]\n",
        "\n",
        "for col_name in numerical_cols:\n",
        "    stats = flight_df.select(\n",
        "        F.mean(F.col(col_name)).alias(\"mean\"),\n",
        "        F.stddev(F.col(col_name)).alias(\"stddev\"),\n",
        "        F.min(F.col(col_name)).alias(\"min\"),\n",
        "        F.max(F.col(col_name)).alias(\"max\"),\n",
        "        F.percentile_approx(F.col(col_name), [0.25, 0.5, 0.75], 10000).alias(\n",
        "            \"percentiles\"\n",
        "        ),\n",
        "    ).collect()[0]\n",
        "\n",
        "    mean_val = stats[\"mean\"]\n",
        "    stddev_val = stats[\"stddev\"]\n",
        "    min_val = stats[\"min\"]\n",
        "    max_val = stats[\"max\"]\n",
        "    percentiles = stats[\"percentiles\"]\n",
        "\n",
        "    bin_width = (max_val - min_val) / 10\n",
        "    bins = [min_val + i * bin_width for i in range(11)]\n",
        "\n",
        "    for i in range(10):\n",
        "        lower = bins[i]\n",
        "        upper = bins[i + 1]\n",
        "        count = flight_df.filter(\n",
        "            (F.col(col_name) >= lower) & (F.col(col_name) < upper)\n",
        "        ).count()\n",
        "\n",
        "\n",
        "# Function to collect data for visualization\n",
        "def collect_data_for_viz(df, columns, limit=10000):\n",
        "    return df.select(columns).limit(limit).collect()\n",
        "\n",
        "\n",
        "# Create histogram visualization for totalFare using PySpark\n",
        "# Get min, max, and use PySpark to count frequencies in bins\n",
        "min_max = flight_df.select(F.min(\"totalFare\"), F.max(\"totalFare\")).collect()[0]\n",
        "min_fare, max_fare = min_max[0], min_max[1]\n",
        "num_bins = 30\n",
        "bin_width = (max_fare - min_fare) / num_bins\n",
        "\n",
        "# Create bins and count records in each bin\n",
        "bins = []\n",
        "counts = []\n",
        "for i in range(num_bins):\n",
        "    lower = min_fare + i * bin_width\n",
        "    upper = min_fare + (i + 1) * bin_width\n",
        "    count = flight_df.filter(\n",
        "        (F.col(\"totalFare\") >= lower) & (F.col(\"totalFare\") < upper)\n",
        "    ).count()\n",
        "    bins.append((lower + upper) / 2)  # Use bin center for x-axis\n",
        "    counts.append(count)\n",
        "\n",
        "# Create histogram with matplotlib\n",
        "fig, ax = plt.subplots(figsize=(10, 6))\n",
        "ax.bar(bins, counts, width=bin_width * 0.8)\n",
        "ax.set_xlabel(\"Total Fare (USD)\")\n",
        "ax.set_ylabel(\"Frequency\")\n",
        "ax.set_title(\"Histogram of Total Fare\")\n",
        "ax.grid(alpha=0.3)\n",
        "\n",
        "# Display histogram\n",
        "plt.tight_layout()\n",
        "plt.show()"
      ]
    },
    {
      "cell_type": "code",
      "execution_count": null,
      "metadata": {},
      "outputs": [],
      "source": [
        "# Create fare comparison for direct vs. connecting flights\n",
        "if 'isNonStop' in flight_df.columns and 'baseFare' in flight_df.columns: \n",
        "    \n",
        "    # Group data by flight type\n",
        "    flight_types = flight_df.groupBy(\"isNonStop\") \\\n",
        "                         .agg(\n",
        "                             F.count(\"*\").alias(\"count\"),\n",
        "                             F.avg(\"baseFare\").alias(\"avgFare\"),\n",
        "                             F.stddev(\"baseFare\").alias(\"stddevFare\")\n",
        "                         ) \\\n",
        "                         .collect()\n",
        "    \n",
        "    # Extract data\n",
        "    labels = [f\"{'Direct' if row['isNonStop'] else 'Connecting'} Flights\" for row in flight_types]\n",
        "    avg_fares = [row[\"avgFare\"] for row in flight_types]\n",
        "    std_fares = [row[\"stddevFare\"] if row[\"stddevFare\"] is not None else 0 for row in flight_types]\n",
        "    \n",
        "    # Create bar chart with error bars\n",
        "    fig, ax = plt.subplots(figsize=(10, 6))\n",
        "    ax.bar(labels, avg_fares, yerr=std_fares, capsize=10, alpha=0.7)\n",
        "    ax.set_title('Average Fare Comparison: Direct vs. Connecting Flights')\n",
        "    ax.set_ylabel('Average Base Fare (USD)')\n",
        "    ax.grid(axis='y', alpha=0.3)\n",
        "    \n",
        "    # Add value labels on top of bars\n",
        "    for i, v in enumerate(avg_fares):\n",
        "        ax.text(i, v + 5, f\"${v:.2f}\", ha='center')\n",
        "    \n",
        "    plt.tight_layout()\n",
        "    plt.show() \n",
        "    \n",
        "    # Extract data for boxplot\n",
        "    seat_labels = [row[\"seatGroup\"] for row in seat_stats] # need to fix this part\n",
        "    boxplot_data = []\n",
        "    for row in seat_stats:\n",
        "        q1, median, q3 = row[\"percentiles\"]\n",
        "        min_val, max_val = row[\"minFare\"], row[\"maxFare\"]\n",
        "        boxplot_data.append([min_val, q1, median, q3, max_val])\n",
        "    \n",
        "    # Create boxplot\n",
        "    fig, ax = plt.subplots(figsize=(10, 6))\n",
        "    ax.boxplot(boxplot_data, labels=seat_labels, vert=True)\n",
        "    ax.set_title('Base Fare Distribution by Seats Remaining')\n",
        "    ax.set_xlabel('Seats Remaining')\n",
        "    ax.set_ylabel('Base Fare (USD)')\n",
        "    ax.grid(axis='y', alpha=0.3)\n",
        "    \n",
        "    plt.tight_layout()\n",
        "    plt.show()\n",
        "\n",
        "# 10. Create a heatmap of day-to-flight price correlation\n",
        "if 'elapsedDays' in flight_df.columns and 'baseFare' in flight_df.columns: \n",
        "    \n",
        "    # Make sure elapsedDays is numeric\n",
        "    numeric_df = flight_df.filter(F.col(\"elapsedDays\").isNotNull())\n",
        "    \n",
        "    # Group by days before flight\n",
        "    elapsed_stats = numeric_df.groupBy(\"elapsedDays\") \\\n",
        "                           .agg(F.avg(\"baseFare\").alias(\"avgFare\")) \\\n",
        "                           .orderBy(\"elapsedDays\") \\\n",
        "                           .collect()\n",
        "    \n",
        "    # Extract data\n",
        "    elapsed_days = [row[\"elapsedDays\"] for row in elapsed_stats]\n",
        "    avg_fares = [row[\"avgFare\"] for row in elapsed_stats]\n",
        "    \n",
        "    # Create line chart\n",
        "    fig, ax = plt.subplots(figsize=(12, 6))\n",
        "    ax.plot(elapsed_days, avg_fares, marker='o', linestyle='-', linewidth=2)\n",
        "    ax.set_title('Average Fare vs. Days Before Flight')\n",
        "    ax.set_xlabel('Days Before Flight')\n",
        "    ax.set_ylabel('Average Base Fare (USD)')\n",
        "    ax.grid(True, alpha=0.3)\n",
        "    \n",
        "    # Add trend line\n",
        "    if len(elapsed_days) > 1:\n",
        "        z = np.polyfit(elapsed_days, avg_fares, 1)\n",
        "        p = np.poly1d(z)\n",
        "        ax.plot(elapsed_days, p(elapsed_days), \"r--\", linewidth=2)\n",
        "        \n",
        "        # Add trend direction annotation\n",
        "        trend = \"increases\" if z[0] > 0 else \"decreases\"\n",
        "        ax.text(0.05, 0.95, f\"Trend: Price {trend} by ${abs(z[0]):.2f} per day\", \n",
        "                transform=ax.transAxes, fontsize=12, verticalalignment='top',\n",
        "                bbox=dict(boxstyle='round', facecolor='white', alpha=0.8))\n",
        "    \n",
        "    plt.tight_layout()\n",
        "    plt.show()"
      ]
    },
    {
      "cell_type": "code",
      "execution_count": null,
      "metadata": {},
      "outputs": [],
      "source": [
        "# Select only numeric columns\n",
        "numeric_cols = [col for col, dtype in flight_df.dtypes if dtype in ('int', 'double')]\n",
        "\n",
        "# Plot histograms directly from PySpark DataFrame\n",
        "plt.figure(figsize=(12, 8))\n",
        "\n",
        "for i, col_name in enumerate(numeric_cols, 1):\n",
        "    plt.subplot(2, 3, i)  # Creates a grid of subplots\n",
        "\n",
        "    # Collect data from PySpark DataFrame\n",
        "    data = flight_df.select(col_name).rdd.flatMap(lambda x: x).filter(lambda x: x is not None).collect()\n",
        "\n",
        "    # Plot histogram\n",
        "    plt.hist(data, bins=30, alpha=0.7, edgecolor='black')\n",
        "    plt.title(f\"Distribution of {col_name}\")\n",
        "\n",
        "plt.tight_layout()\n",
        "plt.show()"
      ]
    },
    {
      "cell_type": "code",
      "execution_count": null,
      "metadata": {},
      "outputs": [],
      "source": [
        "# Select only numeric columns and convert to double\n",
        "numeric_cols = [col for col, dtype in flight_df.dtypes if dtype in ('int', 'double')]\n",
        "\n",
        "# Convert integer columns to double (required for Correlation.corr)\n",
        "for col_name in numeric_cols:\n",
        "    flight_df = flight_df.withColumn(col_name, col(col_name).cast(\"double\"))\n",
        "\n",
        "# Assemble numeric columns into a feature vector\n",
        "vector_col = \"features\"\n",
        "assembler = VectorAssembler(inputCols=numeric_cols, outputCol=vector_col)\n",
        "df_vector = assembler.transform(flight_df).select(vector_col)\n",
        "\n",
        "# Compute correlation matrix\n",
        "correlation_matrix = Correlation.corr(df_vector, vector_col).head()[0].toArray()\n",
        "\n",
        "# Plot heatmap directly\n",
        "plt.figure(figsize=(10, 8))\n",
        "sns.heatmap(correlation_matrix, annot=True, cmap=\"coolwarm\", fmt=\".2f\",\n",
        "            xticklabels=numeric_cols, yticklabels=numeric_cols)\n",
        "\n",
        "plt.title(\"Correlation Matrix\")\n",
        "plt.show()"
      ]
    },
    {
      "cell_type": "markdown",
      "metadata": {},
      "source": [
        "### Feature selection after correlation matrix is done\n",
        "\n",
        "### Use PCA? "
      ]
    },
    {
      "cell_type": "markdown",
      "metadata": {},
      "source": [
        "### Machine Learning Models below"
      ]
    },
    {
      "cell_type": "markdown",
      "metadata": {},
      "source": [
        "### Linear Regression\n",
        "\n",
        "\n",
        "reminder to include a summary of the results "
      ]
    },
    {
      "cell_type": "markdown",
      "metadata": {},
      "source": [
        "### Polynomial Regression"
      ]
    },
    {
      "cell_type": "markdown",
      "metadata": {},
      "source": [
        "### Random Forest"
      ]
    },
    {
      "cell_type": "markdown",
      "metadata": {},
      "source": [
        "### Gradient Boosting (XGBoost)"
      ]
    },
    {
      "cell_type": "markdown",
      "metadata": {},
      "source": [
        "### Neural Network"
      ]
    },
    {
      "cell_type": "markdown",
      "metadata": {},
      "source": [
        "### Validation of models using K-Fold, time-based split"
      ]
    }
  ],
  "metadata": {
    "colab": {
      "authorship_tag": "ABX9TyM4Wwpe7ypLEAKixPaLLfeR",
      "include_colab_link": true,
      "mount_file_id": "1PNG4ZbI139H3Z8xFCrQqFKbsLvJ4ZQCT",
      "provenance": []
    },
    "kernelspec": {
      "display_name": "Python 3",
      "name": "python3"
    },
    "language_info": {
      "codemirror_mode": {
        "name": "ipython",
        "version": 3
      },
      "file_extension": ".py",
      "mimetype": "text/x-python",
      "name": "python",
      "nbconvert_exporter": "python",
      "pygments_lexer": "ipython3",
      "version": "3.11.9"
    }
  },
  "nbformat": 4,
  "nbformat_minor": 0
}
