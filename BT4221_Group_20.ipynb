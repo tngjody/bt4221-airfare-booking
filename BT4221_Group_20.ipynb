{
  "nbformat": 4,
  "nbformat_minor": 0,
  "metadata": {
    "colab": {
      "provenance": []
    },
    "kernelspec": {
      "name": "python3",
      "display_name": "Python 3"
    },
    "language_info": {
      "name": "python"
    }
  },
  "cells": [
    {
      "cell_type": "markdown",
      "source": [
        "# BT4221 Group 20: Optimising Airfare Booking with Predictive Analytics\n",
        "\n",
        "Group Members:\n",
        "\n",
        "Gong Yongjia A0286144X\n",
        "\n",
        "Jody Tng Jin Zi A0238195W\n",
        "\n",
        "Wu Shuhan A0266501L\n",
        "\n",
        "Zhou Jingchu Jeslyn A0275993H\n",
        "\n",
        "\n"
      ],
      "metadata": {
        "id": "rFbdmF4RNTOL"
      }
    },
    {
      "cell_type": "markdown",
      "source": [
        "# Data Loading & Exploration"
      ],
      "metadata": {
        "id": "ex5YtpnLRdMP"
      }
    },
    {
      "cell_type": "code",
      "source": [
        "from pyspark.sql import SparkSession\n",
        "\n",
        "# Initialize Spark Sesison\n",
        "spark = SparkSession.builder.appName(\"FlightPrices\").getOrCreate()\n",
        "\n",
        "# Load Dataset\n",
        "flight_df = spark.read.csv(\"/content/drive/MyDrive/BT4221/flight.csv\", header=True, inferSchema=True)\n",
        "\n",
        "# Show a sample (5 rows) of the data\n",
        "flight_df.show(5, truncate=False)\n",
        "\n",
        "# Display schema\n",
        "flight_df.printSchema()\n",
        "\n",
        "# Total Count\n",
        "flight_df.count()"
      ],
      "metadata": {
        "colab": {
          "base_uri": "https://localhost:8080/"
        },
        "id": "NMeWsqcbRaFz",
        "outputId": "bb23d229-b0f4-48cd-9684-aef1305afad5"
      },
      "execution_count": null,
      "outputs": [
        {
          "output_type": "stream",
          "name": "stdout",
          "text": [
            "+--------------------------------+----------+----------+---------------+------------------+-------------+--------------+-----------+--------------+------------+---------+--------+---------+--------------+-------------------+---------------------------------+------------------------------------------------------------+-------------------------------+------------------------------------------------------------+--------------------------+----------------------------+-------------------+-------------------+------------------------------+-------------------------+----------------+-----------------+\n",
            "|legId                           |searchDate|flightDate|startingAirport|destinationAirport|fareBasisCode|travelDuration|elapsedDays|isBasicEconomy|isRefundable|isNonStop|baseFare|totalFare|seatsRemaining|totalTravelDistance|segmentsDepartureTimeEpochSeconds|segmentsDepartureTimeRaw                                    |segmentsArrivalTimeEpochSeconds|segmentsArrivalTimeRaw                                      |segmentsArrivalAirportCode|segmentsDepartureAirportCode|segmentsAirlineName|segmentsAirlineCode|segmentsEquipmentDescription  |segmentsDurationInSeconds|segmentsDistance|segmentsCabinCode|\n",
            "+--------------------------------+----------+----------+---------------+------------------+-------------+--------------+-----------+--------------+------------+---------+--------+---------+--------------+-------------------+---------------------------------+------------------------------------------------------------+-------------------------------+------------------------------------------------------------+--------------------------+----------------------------+-------------------+-------------------+------------------------------+-------------------------+----------------+-----------------+\n",
            "|620cd51404373b9bdbbc46a0b657573c|2022-05-29|2022-06-18|LAX            |ATL               |Y0N          |PT4H19M       |0          |false         |false       |true     |943.26  |1028.61  |7             |1943               |1655591400                       |2022-06-18T15:30:00.000-07:00                               |1655606940                     |2022-06-18T22:49:00.000-04:00                               |ATL                       |LAX                         |Delta              |DL                 |Airbus A321                   |15540                    |1943            |coach            |\n",
            "|8622d132e890b398c0ad1d62b0232f54|2022-05-03|2022-06-24|CLT            |LAX               |MA0OA0MQ     |PT8H10M       |0          |false         |false       |false    |479.07  |537.1    |9             |2171               |1656073800||1656086520           |2022-06-24T08:30:00.000-04:00||2022-06-24T12:02:00.000-04:00|1656078240||1656103200         |2022-06-24T09:44:00.000-04:00||2022-06-24T13:40:00.000-07:00|ATL||LAX                  |CLT||ATL                    |Delta||Delta       |DL||DL             |Boeing 717||Airbus A321       |4440||16680              |228||1943       |coach||coach     |\n",
            "|6f419788769ddb3802d047272ad0a54d|2022-05-02|2022-06-30|LGA            |ATL               |LAVQA0ML     |PT11H54M      |1          |false         |false       |false    |328.38  |382.21   |9             |1700               |1656633540||1656669600           |2022-06-30T19:59:00.000-04:00||2022-07-01T06:00:00.000-04:00|1656645360||1656676380         |2022-06-30T23:16:00.000-04:00||2022-07-01T07:53:00.000-04:00|MIA||ATL                  |LGA||MIA                    |Delta||Delta       |DL||DL             |Boeing 737-800||Boeing 737-900|11820||6780              |1104||596       |coach||coach     |\n",
            "|41f3cd0a63603895e13b5b77630bd84e|2022-06-10|2022-08-04|LAX            |SFO               |MH7OASMN     |PT1H20M       |0          |false         |false       |true     |189.77  |218.6    |7             |339                |1659664800                       |2022-08-04T19:00:00.000-07:00                               |1659669600                     |2022-08-04T20:20:00.000-07:00                               |SFO                       |LAX                         |Alaska Airlines    |AS                 |Embraer 175                   |4800                     |339             |coach            |\n",
            "|7f5d8684b672dd3593e30ee946264c31|2022-06-24|2022-07-20|LGA            |DFW               |LAVQA0BQ     |PT6H41M       |0          |true          |false       |false    |171.16  |207.6    |9             |1487               |1658327700||1658343300           |2022-07-20T10:35:00.000-04:00||2022-07-20T14:55:00.000-04:00|1658337240||1658351760         |2022-07-20T13:14:00.000-04:00||2022-07-20T16:16:00.000-05:00|ATL||DFW                  |LGA||ATL                    |Delta||Delta       |DL||DL             |Airbus A320||Airbus A321      |9540||8460               |762||725        |coach||coach     |\n",
            "+--------------------------------+----------+----------+---------------+------------------+-------------+--------------+-----------+--------------+------------+---------+--------+---------+--------------+-------------------+---------------------------------+------------------------------------------------------------+-------------------------------+------------------------------------------------------------+--------------------------+----------------------------+-------------------+-------------------+------------------------------+-------------------------+----------------+-----------------+\n",
            "only showing top 5 rows\n",
            "\n",
            "root\n",
            " |-- legId: string (nullable = true)\n",
            " |-- searchDate: date (nullable = true)\n",
            " |-- flightDate: date (nullable = true)\n",
            " |-- startingAirport: string (nullable = true)\n",
            " |-- destinationAirport: string (nullable = true)\n",
            " |-- fareBasisCode: string (nullable = true)\n",
            " |-- travelDuration: string (nullable = true)\n",
            " |-- elapsedDays: integer (nullable = true)\n",
            " |-- isBasicEconomy: boolean (nullable = true)\n",
            " |-- isRefundable: boolean (nullable = true)\n",
            " |-- isNonStop: boolean (nullable = true)\n",
            " |-- baseFare: double (nullable = true)\n",
            " |-- totalFare: double (nullable = true)\n",
            " |-- seatsRemaining: integer (nullable = true)\n",
            " |-- totalTravelDistance: integer (nullable = true)\n",
            " |-- segmentsDepartureTimeEpochSeconds: string (nullable = true)\n",
            " |-- segmentsDepartureTimeRaw: string (nullable = true)\n",
            " |-- segmentsArrivalTimeEpochSeconds: string (nullable = true)\n",
            " |-- segmentsArrivalTimeRaw: string (nullable = true)\n",
            " |-- segmentsArrivalAirportCode: string (nullable = true)\n",
            " |-- segmentsDepartureAirportCode: string (nullable = true)\n",
            " |-- segmentsAirlineName: string (nullable = true)\n",
            " |-- segmentsAirlineCode: string (nullable = true)\n",
            " |-- segmentsEquipmentDescription: string (nullable = true)\n",
            " |-- segmentsDurationInSeconds: string (nullable = true)\n",
            " |-- segmentsDistance: string (nullable = true)\n",
            " |-- segmentsCabinCode: string (nullable = true)\n",
            "\n"
          ]
        },
        {
          "output_type": "execute_result",
          "data": {
            "text/plain": [
              "2000000"
            ]
          },
          "metadata": {},
          "execution_count": 8
        }
      ]
    },
    {
      "cell_type": "markdown",
      "source": [
        "# Data Cleaning & Pre-processing"
      ],
      "metadata": {
        "id": "4VvG4vWmWo4f"
      }
    },
    {
      "cell_type": "code",
      "source": [
        "from pyspark.sql.functions import col, sum, isnan\n",
        "from pyspark.sql.types import NumericType\n",
        "\n",
        "# Build expressions to count missing values (null and NaN for numeric columns; null only otherwise)\n",
        "missing_exprs = []\n",
        "for field in flight_df.schema.fields:\n",
        "    if isinstance(field.dataType, NumericType):\n",
        "        # For numeric columns, count both nulls and NaNs\n",
        "        expr = sum((col(field.name).isNull() | isnan(col(field.name))).cast(\"int\")).alias(field.name)\n",
        "    else:\n",
        "        # For non-numeric columns, count only nulls\n",
        "        expr = sum(col(field.name).isNull().cast(\"int\")).alias(field.name)\n",
        "    missing_exprs.append(expr)\n",
        "\n",
        "# Compute missing values count per column\n",
        "missing_counts = flight_df.select(*missing_exprs)\n",
        "missing_counts.show()"
      ],
      "metadata": {
        "colab": {
          "base_uri": "https://localhost:8080/"
        },
        "id": "65VUsswDYIl4",
        "outputId": "699a2d11-d315-4aab-cc20-90cfaf74baf5"
      },
      "execution_count": null,
      "outputs": [
        {
          "output_type": "stream",
          "name": "stdout",
          "text": [
            "+-----+----------+----------+---------------+------------------+-------------+--------------+-----------+--------------+------------+---------+--------+---------+--------------+-------------------+---------------------------------+------------------------+-------------------------------+----------------------+--------------------------+----------------------------+-------------------+-------------------+----------------------------+-------------------------+----------------+-----------------+\n",
            "|legId|searchDate|flightDate|startingAirport|destinationAirport|fareBasisCode|travelDuration|elapsedDays|isBasicEconomy|isRefundable|isNonStop|baseFare|totalFare|seatsRemaining|totalTravelDistance|segmentsDepartureTimeEpochSeconds|segmentsDepartureTimeRaw|segmentsArrivalTimeEpochSeconds|segmentsArrivalTimeRaw|segmentsArrivalAirportCode|segmentsDepartureAirportCode|segmentsAirlineName|segmentsAirlineCode|segmentsEquipmentDescription|segmentsDurationInSeconds|segmentsDistance|segmentsCabinCode|\n",
            "+-----+----------+----------+---------------+------------------+-------------+--------------+-----------+--------------+------------+---------+--------+---------+--------------+-------------------+---------------------------------+------------------------+-------------------------------+----------------------+--------------------------+----------------------------+-------------------+-------------------+----------------------------+-------------------------+----------------+-----------------+\n",
            "|    0|         0|         0|              0|                 0|            0|             0|          0|             0|           0|        0|       0|        0|             0|             155156|                                0|                       0|                              0|                     0|                         0|                           0|                  0|                  0|                       39914|                        0|               0|                0|\n",
            "+-----+----------+----------+---------------+------------------+-------------+--------------+-----------+--------------+------------+---------+--------+---------+--------------+-------------------+---------------------------------+------------------------+-------------------------------+----------------------+--------------------------+----------------------------+-------------------+-------------------+----------------------------+-------------------------+----------------+-----------------+\n",
            "\n"
          ]
        }
      ]
    },
    {
      "cell_type": "code",
      "source": [
        "# Remove rows with null values\n",
        "\n",
        "# clean_flight_data = flight_df.dropna(subset = )\n",
        "\n",
        "\n",
        "# Drop duplicates\n",
        "flight_df = flight_df.dropDuplicates()\n",
        "\n",
        "# Final Count\n",
        "flight_df.count()\n",
        "\n",
        "\n"
      ],
      "metadata": {
        "colab": {
          "base_uri": "https://localhost:8080/"
        },
        "id": "tlaCuoH8YjJN",
        "outputId": "25408621-2c03-4c01-9738-3652acb01493"
      },
      "execution_count": null,
      "outputs": [
        {
          "output_type": "execute_result",
          "data": {
            "text/plain": [
              "2000000"
            ]
          },
          "metadata": {},
          "execution_count": 10
        }
      ]
    }
  ]
}