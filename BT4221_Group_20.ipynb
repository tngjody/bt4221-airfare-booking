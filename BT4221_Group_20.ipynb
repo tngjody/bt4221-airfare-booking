{
  "cells": [
    {
      "cell_type": "markdown",
      "metadata": {
        "colab_type": "text",
        "id": "view-in-github"
      },
      "source": [
        "<a href=\"https://colab.research.google.com/github/tngjody/bt4221-airfare-booking/blob/main/BT4221_Group_20.ipynb\" target=\"_parent\"><img src=\"https://colab.research.google.com/assets/colab-badge.svg\" alt=\"Open In Colab\"/></a>"
      ]
    },
    {
      "cell_type": "markdown",
      "metadata": {
        "id": "rFbdmF4RNTOL"
      },
      "source": [
        "# BT4221 Group 20: Optimising Airfare Booking with Predictive Analytics\n",
        "\n",
        "Group Members:\n",
        "\n",
        "Gong Yongjia A0286144X\n",
        "\n",
        "Jody Tng Jin Zi A0238195W\n",
        "\n",
        "Wu Shuhan A0266501L\n",
        "\n",
        "Zhou Jingchu Jeslyn A0275993H"
      ]
    },
    {
      "cell_type": "markdown",
      "metadata": {},
      "source": [
        "### Importing Libraries"
      ]
    },
    {
      "cell_type": "code",
      "execution_count": 6,
      "metadata": {},
      "outputs": [],
      "source": [
        "# PySpark Imports\n",
        "from pyspark.sql import SparkSession\n",
        "from pyspark.sql import functions as F\n",
        "from pyspark.sql.functions import col, sum, isnan, datediff, lit, sum\n",
        "from pyspark.sql.types import NumericType, DoubleType, IntegerType, FloatType, DateType, StringType\n",
        "from pyspark.ml.stat import Correlation\n",
        "from pyspark.ml.feature import VectorAssembler, StringIndexer\n",
        "\n",
        "\n",
        "# Visualization Imports\n",
        "import matplotlib.pyplot as plt\n",
        "import seaborn as sns\n",
        "import numpy as np\n",
        "\n",
        "# Other Imports\n",
        "from datetime import datetime\n",
        "from datetime import timedelta"
      ]
    },
    {
      "cell_type": "markdown",
      "metadata": {
        "id": "ex5YtpnLRdMP"
      },
      "source": [
        "# 1.1 Data Loading"
      ]
    },
    {
      "cell_type": "markdown",
      "metadata": {},
      "source": [
        "#### **1.1. Initialize Spark Session & Load Dataset**"
      ]
    },
    {
      "cell_type": "code",
      "execution_count": 7,
      "metadata": {
        "colab": {
          "base_uri": "https://localhost:8080/"
        },
        "id": "NMeWsqcbRaFz",
        "outputId": "bb23d229-b0f4-48cd-9684-aef1305afad5"
      },
      "outputs": [
        {
          "name": "stderr",
          "output_type": "stream",
          "text": [
            "[Stage 23:>                                                         (0 + 8) / 8]\r"
          ]
        },
        {
          "name": "stdout",
          "output_type": "stream",
          "text": [
            "+--------------------------------+----------+----------+---------------+------------------+-------------+--------------+-----------+--------------+------------+---------+--------+---------+--------------+-------------------+---------------------------------+------------------------------------------------------------+-------------------------------+------------------------------------------------------------+--------------------------+----------------------------+-------------------+-------------------+------------------------------+-------------------------+----------------+-----------------+\n",
            "|legId                           |searchDate|flightDate|startingAirport|destinationAirport|fareBasisCode|travelDuration|elapsedDays|isBasicEconomy|isRefundable|isNonStop|baseFare|totalFare|seatsRemaining|totalTravelDistance|segmentsDepartureTimeEpochSeconds|segmentsDepartureTimeRaw                                    |segmentsArrivalTimeEpochSeconds|segmentsArrivalTimeRaw                                      |segmentsArrivalAirportCode|segmentsDepartureAirportCode|segmentsAirlineName|segmentsAirlineCode|segmentsEquipmentDescription  |segmentsDurationInSeconds|segmentsDistance|segmentsCabinCode|\n",
            "+--------------------------------+----------+----------+---------------+------------------+-------------+--------------+-----------+--------------+------------+---------+--------+---------+--------------+-------------------+---------------------------------+------------------------------------------------------------+-------------------------------+------------------------------------------------------------+--------------------------+----------------------------+-------------------+-------------------+------------------------------+-------------------------+----------------+-----------------+\n",
            "|620cd51404373b9bdbbc46a0b657573c|2022-05-29|2022-06-18|LAX            |ATL               |Y0N          |PT4H19M       |0          |false         |false       |true     |943.26  |1028.61  |7             |1943               |1655591400                       |2022-06-18T15:30:00.000-07:00                               |1655606940                     |2022-06-18T22:49:00.000-04:00                               |ATL                       |LAX                         |Delta              |DL                 |Airbus A321                   |15540                    |1943            |coach            |\n",
            "|8622d132e890b398c0ad1d62b0232f54|2022-05-03|2022-06-24|CLT            |LAX               |MA0OA0MQ     |PT8H10M       |0          |false         |false       |false    |479.07  |537.1    |9             |2171               |1656073800||1656086520           |2022-06-24T08:30:00.000-04:00||2022-06-24T12:02:00.000-04:00|1656078240||1656103200         |2022-06-24T09:44:00.000-04:00||2022-06-24T13:40:00.000-07:00|ATL||LAX                  |CLT||ATL                    |Delta||Delta       |DL||DL             |Boeing 717||Airbus A321       |4440||16680              |228||1943       |coach||coach     |\n",
            "|6f419788769ddb3802d047272ad0a54d|2022-05-02|2022-06-30|LGA            |ATL               |LAVQA0ML     |PT11H54M      |1          |false         |false       |false    |328.38  |382.21   |9             |1700               |1656633540||1656669600           |2022-06-30T19:59:00.000-04:00||2022-07-01T06:00:00.000-04:00|1656645360||1656676380         |2022-06-30T23:16:00.000-04:00||2022-07-01T07:53:00.000-04:00|MIA||ATL                  |LGA||MIA                    |Delta||Delta       |DL||DL             |Boeing 737-800||Boeing 737-900|11820||6780              |1104||596       |coach||coach     |\n",
            "|41f3cd0a63603895e13b5b77630bd84e|2022-06-10|2022-08-04|LAX            |SFO               |MH7OASMN     |PT1H20M       |0          |false         |false       |true     |189.77  |218.6    |7             |339                |1659664800                       |2022-08-04T19:00:00.000-07:00                               |1659669600                     |2022-08-04T20:20:00.000-07:00                               |SFO                       |LAX                         |Alaska Airlines    |AS                 |Embraer 175                   |4800                     |339             |coach            |\n",
            "|7f5d8684b672dd3593e30ee946264c31|2022-06-24|2022-07-20|LGA            |DFW               |LAVQA0BQ     |PT6H41M       |0          |true          |false       |false    |171.16  |207.6    |9             |1487               |1658327700||1658343300           |2022-07-20T10:35:00.000-04:00||2022-07-20T14:55:00.000-04:00|1658337240||1658351760         |2022-07-20T13:14:00.000-04:00||2022-07-20T16:16:00.000-05:00|ATL||DFW                  |LGA||ATL                    |Delta||Delta       |DL||DL             |Airbus A320||Airbus A321      |9540||8460               |762||725        |coach||coach     |\n",
            "+--------------------------------+----------+----------+---------------+------------------+-------------+--------------+-----------+--------------+------------+---------+--------+---------+--------------+-------------------+---------------------------------+------------------------------------------------------------+-------------------------------+------------------------------------------------------------+--------------------------+----------------------------+-------------------+-------------------+------------------------------+-------------------------+----------------+-----------------+\n",
            "only showing top 5 rows\n",
            "\n",
            "root\n",
            " |-- legId: string (nullable = true)\n",
            " |-- searchDate: date (nullable = true)\n",
            " |-- flightDate: date (nullable = true)\n",
            " |-- startingAirport: string (nullable = true)\n",
            " |-- destinationAirport: string (nullable = true)\n",
            " |-- fareBasisCode: string (nullable = true)\n",
            " |-- travelDuration: string (nullable = true)\n",
            " |-- elapsedDays: integer (nullable = true)\n",
            " |-- isBasicEconomy: boolean (nullable = true)\n",
            " |-- isRefundable: boolean (nullable = true)\n",
            " |-- isNonStop: boolean (nullable = true)\n",
            " |-- baseFare: double (nullable = true)\n",
            " |-- totalFare: double (nullable = true)\n",
            " |-- seatsRemaining: integer (nullable = true)\n",
            " |-- totalTravelDistance: integer (nullable = true)\n",
            " |-- segmentsDepartureTimeEpochSeconds: string (nullable = true)\n",
            " |-- segmentsDepartureTimeRaw: string (nullable = true)\n",
            " |-- segmentsArrivalTimeEpochSeconds: string (nullable = true)\n",
            " |-- segmentsArrivalTimeRaw: string (nullable = true)\n",
            " |-- segmentsArrivalAirportCode: string (nullable = true)\n",
            " |-- segmentsDepartureAirportCode: string (nullable = true)\n",
            " |-- segmentsAirlineName: string (nullable = true)\n",
            " |-- segmentsAirlineCode: string (nullable = true)\n",
            " |-- segmentsEquipmentDescription: string (nullable = true)\n",
            " |-- segmentsDurationInSeconds: string (nullable = true)\n",
            " |-- segmentsDistance: string (nullable = true)\n",
            " |-- segmentsCabinCode: string (nullable = true)\n",
            "\n",
            "+--------------------------------+-------------------+----------------+\n",
            "|legid                           |totalTravelDistance|segmentsDistance|\n",
            "+--------------------------------+-------------------+----------------+\n",
            "|2d27f28ea39de6e1cc0b0f17d8f8fa8b|NULL               |None||None      |\n",
            "+--------------------------------+-------------------+----------------+\n",
            "only showing top 1 row\n",
            "\n"
          ]
        },
        {
          "name": "stderr",
          "output_type": "stream",
          "text": [
            "                                                                                \r"
          ]
        }
      ],
      "source": [
        "# Initialize Spark Sesison\n",
        "spark = SparkSession.builder.appName(\"FlightPrices\").getOrCreate()\n",
        "\n",
        "# Load Dataset\n",
        "flight_df = spark.read.csv(\"flight.csv\", header=True, inferSchema=True)\n",
        "\n",
        "# Show a sample (5 rows) of the data\n",
        "flight_df.show(5, truncate=False)\n",
        "\n",
        "# Display schema\n",
        "flight_df.printSchema()\n",
        "flight_df.filter(F.col(\"totalTravelDistance\").isNull()) \\\n",
        "    .select(\"legid\", \"totalTravelDistance\", \"segmentsDistance\") \\\n",
        "    .show(1, truncate=False)\n",
        "\n"
      ]
    },
    {
      "cell_type": "markdown",
      "metadata": {},
      "source": [
        "# 1.2 EDA on Raw Data"
      ]
    },
    {
      "cell_type": "markdown",
      "metadata": {},
      "source": [
        "# 2.1 Data Cleaning"
      ]
    },
    {
      "cell_type": "code",
      "execution_count": 8,
      "metadata": {},
      "outputs": [
        {
          "name": "stdout",
          "output_type": "stream",
          "text": [
            "Before dropping null rows:\n",
            "\n",
            "Missing values count for each column:\n"
          ]
        },
        {
          "name": "stderr",
          "output_type": "stream",
          "text": [
            "                                                                                \r"
          ]
        },
        {
          "name": "stdout",
          "output_type": "stream",
          "text": [
            "+-----+----------+----------+---------------+------------------+-------------+--------------+-----------+--------------+------------+---------+--------+---------+--------------+-------------------+---------------------------------+------------------------+-------------------------------+----------------------+--------------------------+----------------------------+-------------------+-------------------+----------------------------+-------------------------+----------------+-----------------+\n",
            "|legId|searchDate|flightDate|startingAirport|destinationAirport|fareBasisCode|travelDuration|elapsedDays|isBasicEconomy|isRefundable|isNonStop|baseFare|totalFare|seatsRemaining|totalTravelDistance|segmentsDepartureTimeEpochSeconds|segmentsDepartureTimeRaw|segmentsArrivalTimeEpochSeconds|segmentsArrivalTimeRaw|segmentsArrivalAirportCode|segmentsDepartureAirportCode|segmentsAirlineName|segmentsAirlineCode|segmentsEquipmentDescription|segmentsDurationInSeconds|segmentsDistance|segmentsCabinCode|\n",
            "+-----+----------+----------+---------------+------------------+-------------+--------------+-----------+--------------+------------+---------+--------+---------+--------------+-------------------+---------------------------------+------------------------+-------------------------------+----------------------+--------------------------+----------------------------+-------------------+-------------------+----------------------------+-------------------------+----------------+-----------------+\n",
            "|    0|         0|         0|              0|                 0|            0|             0|          0|             0|           0|        0|       0|        0|             0|             155156|                                0|                       0|                              0|                     0|                         0|                           0|                  0|                  0|                       39914|                        0|               0|                0|\n",
            "+-----+----------+----------+---------------+------------------+-------------+--------------+-----------+--------------+------------+---------+--------+---------+--------------+-------------------+---------------------------------+------------------------+-------------------------------+----------------------+--------------------------+----------------------------+-------------------+-------------------+----------------------------+-------------------------+----------------+-----------------+\n",
            "\n"
          ]
        },
        {
          "name": "stderr",
          "output_type": "stream",
          "text": [
            "[Stage 32:>                                                         (0 + 8) / 8]\r"
          ]
        },
        {
          "name": "stdout",
          "output_type": "stream",
          "text": [
            "\n",
            "Percentage of missing values:\n",
            "legId                                0.00%\n",
            "searchDate                           0.00%\n",
            "flightDate                           0.00%\n",
            "startingAirport                      0.00%\n",
            "destinationAirport                   0.00%\n",
            "fareBasisCode                        0.00%\n",
            "travelDuration                       0.00%\n",
            "elapsedDays                          0.00%\n",
            "isBasicEconomy                       0.00%\n",
            "isRefundable                         0.00%\n",
            "isNonStop                            0.00%\n",
            "baseFare                             0.00%\n",
            "totalFare                            0.00%\n",
            "seatsRemaining                       0.00%\n",
            "totalTravelDistance                  7.76%\n",
            "segmentsDepartureTimeEpochSeconds    0.00%\n",
            "segmentsDepartureTimeRaw             0.00%\n",
            "segmentsArrivalTimeEpochSeconds      0.00%\n",
            "segmentsArrivalTimeRaw               0.00%\n",
            "segmentsArrivalAirportCode           0.00%\n",
            "segmentsDepartureAirportCode         0.00%\n",
            "segmentsAirlineName                  0.00%\n",
            "segmentsAirlineCode                  0.00%\n",
            "segmentsEquipmentDescription         2.00%\n",
            "segmentsDurationInSeconds            0.00%\n",
            "segmentsDistance                     0.00%\n",
            "segmentsCabinCode                    0.00%\n",
            "Name: 0, dtype: object\n"
          ]
        },
        {
          "name": "stderr",
          "output_type": "stream",
          "text": [
            "                                                                                \r"
          ]
        }
      ],
      "source": [
        "def show_missing_values(df):\n",
        "    missing_exprs = []\n",
        "    for field in df.schema.fields:\n",
        "        if isinstance(field.dataType, NumericType):\n",
        "            # For numeric columns, count both nulls and NaNs\n",
        "            expr = sum(\n",
        "                (col(field.name).isNull() | isnan(col(field.name))).cast(\"int\")\n",
        "            ).alias(field.name)\n",
        "        elif isinstance(field.dataType, StringType):\n",
        "            # For string columns, count nulls and empty strings\n",
        "            expr = sum(\n",
        "                (col(field.name).isNull() | (col(field.name) == \"\")).cast(\"int\")\n",
        "            ).alias(field.name)\n",
        "        else:\n",
        "            # For other columns, count only nulls\n",
        "            expr = sum(col(field.name).isNull().cast(\"int\")).alias(field.name)\n",
        "        missing_exprs.append(expr)\n",
        "\n",
        "    # Compute and display missing values count per column\n",
        "    missing_counts = df.select(*missing_exprs)\n",
        "    print(\"\\nMissing values count for each column:\")\n",
        "    missing_counts.show()\n",
        "    \n",
        "    # Calculate and display percentage of missing values\n",
        "    total_rows = df.count()\n",
        "    missing_percentages = missing_counts.toPandas().iloc[0].apply(lambda x: f\"{(x/total_rows)*100:.2f}%\")\n",
        "    print(\"\\nPercentage of missing values:\")\n",
        "    print(missing_percentages)\n",
        "\n",
        "print(\"Before dropping null rows:\")\n",
        "show_missing_values(flight_df)"
      ]
    },
    {
      "cell_type": "code",
      "execution_count": 9,
      "metadata": {},
      "outputs": [],
      "source": [
        "# drop rows with null values in TravelDistance\n",
        "flight_df = flight_df.dropna(subset=[\"totalTravelDistance\"])"
      ]
    },
    {
      "cell_type": "code",
      "execution_count": 10,
      "metadata": {},
      "outputs": [
        {
          "name": "stdout",
          "output_type": "stream",
          "text": [
            "After dropping null rows:\n",
            "\n",
            "Missing values count for each column:\n"
          ]
        },
        {
          "name": "stderr",
          "output_type": "stream",
          "text": [
            "                                                                                \r"
          ]
        },
        {
          "name": "stdout",
          "output_type": "stream",
          "text": [
            "+-----+----------+----------+---------------+------------------+-------------+--------------+-----------+--------------+------------+---------+--------+---------+--------------+-------------------+---------------------------------+------------------------+-------------------------------+----------------------+--------------------------+----------------------------+-------------------+-------------------+----------------------------+-------------------------+----------------+-----------------+\n",
            "|legId|searchDate|flightDate|startingAirport|destinationAirport|fareBasisCode|travelDuration|elapsedDays|isBasicEconomy|isRefundable|isNonStop|baseFare|totalFare|seatsRemaining|totalTravelDistance|segmentsDepartureTimeEpochSeconds|segmentsDepartureTimeRaw|segmentsArrivalTimeEpochSeconds|segmentsArrivalTimeRaw|segmentsArrivalAirportCode|segmentsDepartureAirportCode|segmentsAirlineName|segmentsAirlineCode|segmentsEquipmentDescription|segmentsDurationInSeconds|segmentsDistance|segmentsCabinCode|\n",
            "+-----+----------+----------+---------------+------------------+-------------+--------------+-----------+--------------+------------+---------+--------+---------+--------------+-------------------+---------------------------------+------------------------+-------------------------------+----------------------+--------------------------+----------------------------+-------------------+-------------------+----------------------------+-------------------------+----------------+-----------------+\n",
            "|    0|         0|         0|              0|                 0|            0|             0|          0|             0|           0|        0|       0|        0|             0|                  0|                                0|                       0|                              0|                     0|                         0|                           0|                  0|                  0|                       33392|                        0|               0|                0|\n",
            "+-----+----------+----------+---------------+------------------+-------------+--------------+-----------+--------------+------------+---------+--------+---------+--------------+-------------------+---------------------------------+------------------------+-------------------------------+----------------------+--------------------------+----------------------------+-------------------+-------------------+----------------------------+-------------------------+----------------+-----------------+\n",
            "\n"
          ]
        },
        {
          "name": "stderr",
          "output_type": "stream",
          "text": [
            "[Stage 41:>                                                         (0 + 8) / 8]\r"
          ]
        },
        {
          "name": "stdout",
          "output_type": "stream",
          "text": [
            "\n",
            "Percentage of missing values:\n",
            "legId                                0.00%\n",
            "searchDate                           0.00%\n",
            "flightDate                           0.00%\n",
            "startingAirport                      0.00%\n",
            "destinationAirport                   0.00%\n",
            "fareBasisCode                        0.00%\n",
            "travelDuration                       0.00%\n",
            "elapsedDays                          0.00%\n",
            "isBasicEconomy                       0.00%\n",
            "isRefundable                         0.00%\n",
            "isNonStop                            0.00%\n",
            "baseFare                             0.00%\n",
            "totalFare                            0.00%\n",
            "seatsRemaining                       0.00%\n",
            "totalTravelDistance                  0.00%\n",
            "segmentsDepartureTimeEpochSeconds    0.00%\n",
            "segmentsDepartureTimeRaw             0.00%\n",
            "segmentsArrivalTimeEpochSeconds      0.00%\n",
            "segmentsArrivalTimeRaw               0.00%\n",
            "segmentsArrivalAirportCode           0.00%\n",
            "segmentsDepartureAirportCode         0.00%\n",
            "segmentsAirlineName                  0.00%\n",
            "segmentsAirlineCode                  0.00%\n",
            "segmentsEquipmentDescription         1.81%\n",
            "segmentsDurationInSeconds            0.00%\n",
            "segmentsDistance                     0.00%\n",
            "segmentsCabinCode                    0.00%\n",
            "Name: 0, dtype: object\n"
          ]
        },
        {
          "name": "stderr",
          "output_type": "stream",
          "text": [
            "                                                                                \r"
          ]
        }
      ],
      "source": [
        "print(\"After dropping null rows:\")\n",
        "show_missing_values(flight_df)"
      ]
    },
    {
      "cell_type": "markdown",
      "metadata": {},
      "source": [
        "# 2.2 Data Preprocessing"
      ]
    },
    {
      "cell_type": "code",
      "execution_count": 11,
      "cell_type": "markdown",
      "metadata": {},
      "outputs": [
        {
          "name": "stderr",
          "output_type": "stream",
          "text": [
            "                                                                                \r"
          ]
        },
        {
          "name": "stdout",
          "output_type": "stream",
          "text": [
            "+--------------------+---------+---------------+------------------+--------------+-----------+--------------+------------+--------------+----------+-------------------+------------------+------------+-------------+---------------+---+---+---+---+---+---+---+---+---+---+---+---+---+---+----------------+-------------+\n",
            "|               legid|totalFare|startingAirport|destinationAirport|travelDuration|elapsedDays|isBasicEconomy|isRefundable|seatsRemaining|isFestival|totalTravelDistance|daysUntilDeparture|dayOfTheWeek|numOfSegments|layoverDuration| UA| NK| AA| 4B| LF| B6| DL| 9K| F9| HA| 9X| AS| KG| SY|hasBusinessClass|hasFirstClass|\n",
            "+--------------------+---------+---------------+------------------+--------------+-----------+--------------+------------+--------------+----------+-------------------+------------------+------------+-------------+---------------+---+---+---+---+---+---+---+---+---+---+---+---+---+---+----------------+-------------+\n",
            "|620cd51404373b9bd...|  1028.61|            LAX|               ATL|           4.5|          0|             0|           0|             7|         0|               1943|                20|         Sat|            1|            0.0|  0|  0|  0|  0|  0|  0|  1|  0|  0|  0|  0|  0|  0|  0|               0|            0|\n",
            "|8622d132e890b398c...|    537.1|            CLT|               LAX|           8.0|          0|             0|           0|             9|         0|               2171|                52|         Fri|            3|            2.5|  0|  0|  0|  0|  0|  0|  1|  0|  0|  0|  0|  0|  0|  0|               0|            0|\n",
            "|6f419788769ddb380...|   382.21|            LGA|               ATL|          12.0|          1|             0|           0|             9|         0|               1700|                59|         Thu|            3|            6.5|  0|  0|  0|  0|  0|  0|  1|  0|  0|  0|  0|  0|  0|  0|               0|            0|\n",
            "|41f3cd0a63603895e...|    218.6|            LAX|               SFO|           1.5|          0|             0|           0|             7|         0|                339|                55|         Thu|            1|            0.0|  0|  0|  0|  0|  0|  0|  0|  0|  0|  0|  0|  1|  0|  0|               0|            0|\n",
            "|7f5d8684b672dd359...|    207.6|            LGA|               DFW|           6.5|          0|             1|           0|             9|         0|               1487|                26|         Wed|            3|            1.5|  0|  0|  0|  0|  0|  0|  1|  0|  0|  0|  0|  0|  0|  0|               0|            0|\n",
            "|5b5f142a97c3749a5...|    133.6|            DFW|               DEN|           2.0|          0|             0|           0|             9|         1|                650|                11|         Sat|            1|            0.0|  1|  0|  0|  0|  0|  0|  0|  0|  0|  0|  0|  0|  0|  0|               0|            0|\n",
            "|50cdff822b37c021f...|    625.6|            LAX|               PHL|           7.5|          0|             0|           0|             9|         0|               2417|                51|         Fri|            3|            1.0|  1|  0|  0|  0|  0|  0|  0|  0|  0|  0|  0|  0|  0|  0|               0|            0|\n",
            "|cbfd5d54c96d342db...|    127.6|            BOS|               IAD|           3.5|          0|             0|           0|             1|         1|                406|                14|         Sun|            3|            0.5|  1|  0|  0|  0|  0|  0|  0|  0|  0|  0|  0|  0|  0|  0|               0|            0|\n",
            "|6ec760aa789238e92...|    285.6|            MIA|               DFW|           3.5|          0|             0|           0|             7|         1|               1115|                 3|         Sun|            1|            0.0|  0|  0|  1|  0|  0|  0|  0|  0|  0|  0|  0|  0|  0|  0|               0|            0|\n",
            "|51d23671ceccf91a1...|    148.6|            EWR|               CLT|           2.0|          0|             1|           0|             7|         0|                545|                40|         Sat|            1|            0.0|  0|  0|  1|  0|  0|  0|  0|  0|  0|  0|  0|  0|  0|  0|               0|            0|\n",
            "|f4043f000d9a362f8...|    571.2|            ORD|               OAK|          11.5|          0|             0|           0|             9|         1|               2083|                28|         Tue|            3|            6.0|  1|  0|  0|  0|  0|  0|  1|  0|  0|  0|  0|  0|  0|  0|               0|            0|\n",
            "|1c2fe336fdc66e6fb...|    159.1|            CLT|               PHL|           5.0|          0|             0|           0|            10|         0|                469|                55|         Tue|            3|            3.0|  0|  0|  1|  0|  0|  0|  0|  0|  0|  0|  0|  0|  0|  0|               0|            0|\n",
            "|4ac9efa7de101ee75...|    541.6|            DEN|               JFK|           6.5|          0|             0|           0|             9|         0|               1623|                17|         Tue|            3|            1.0|  1|  0|  0|  0|  0|  0|  1|  0|  0|  0|  0|  0|  0|  0|               0|            0|\n",
            "|13775e38a6ccbb323...|    418.6|            JFK|               LAX|           6.0|          0|             0|           0|             9|         0|               2458|                36|         Wed|            1|            0.0|  0|  0|  0|  0|  0|  0|  1|  0|  0|  0|  0|  0|  0|  0|               0|            0|\n",
            "|9a27b2e85d4f77243...|   595.61|            JFK|               DEN|          10.0|          0|             0|           0|             9|         0|               2501|                13|         Fri|            3|            2.5|  1|  0|  0|  0|  0|  0|  1|  0|  0|  0|  0|  0|  0|  0|               0|            0|\n",
            "|c6ae58388eab0f526...|   513.61|            LAX|               JFK|           8.5|          0|             0|           0|             3|         0|               2595|                57|         Mon|            3|            2.0|  0|  0|  1|  0|  0|  0|  0|  0|  0|  0|  0|  0|  0|  0|               0|            0|\n",
            "|8ceba9d9fccbd3f42...|    363.6|            DEN|               MIA|           9.0|          0|             0|           0|             9|         0|               2295|                44|         Thu|            3|            3.0|  0|  0|  0|  0|  0|  0|  1|  0|  0|  0|  0|  0|  0|  0|               0|            0|\n",
            "|2aaf062cf028bdc0f...|    102.6|            JFK|               MIA|           8.5|          0|             1|           0|             7|         0|               1445|                12|         Tue|            3|            4.0|  0|  0|  1|  0|  0|  0|  0|  0|  0|  0|  0|  0|  0|  0|               0|            0|\n",
            "|a5108a83bb2960d42...|    321.6|            ORD|               LAX|           8.0|          0|             0|           0|             4|         1|               2679|                 9|         Sat|            3|            0.5|  0|  0|  0|  0|  0|  0|  0|  0|  0|  0|  0|  1|  0|  0|               0|            0|\n",
            "|533397ef2ef9c17a7...|   648.61|            LGA|               SFO|           8.0|          0|             0|           0|             5|         0|               2567|                 4|         Sun|            3|            1.0|  0|  0|  1|  0|  0|  0|  0|  0|  0|  0|  0|  0|  0|  0|               0|            0|\n",
            "+--------------------+---------+---------------+------------------+--------------+-----------+--------------+------------+--------------+----------+-------------------+------------------+------------+-------------+---------------+---+---+---+---+---+---+---+---+---+---+---+---+---+---+----------------+-------------+\n",
            "only showing top 20 rows\n",
            "\n"
          ]
        }
      ],
      "source": [
        "def convert_duration_to_hours(duration_col):\n",
        "    # Extract hours and minutes using regexp_extract\n",
        "    hours = F.regexp_extract(duration_col, r\"PT(\\d+)H\", 1).cast(\"double\")\n",
        "    minutes = F.regexp_extract(duration_col, r\"H(\\d+)M\", 1).cast(\"double\")\n",
        "\n",
        "    # Calculate total hours and round to nearest 0.25\n",
        "    total_hours = hours + (minutes / 60)\n",
        "    rounded_hours = F.round(total_hours * 2) / 2\n",
        "    \n",
        "    return rounded_hours\n",
        "\n",
        "This function calculates total layover time in hours between segments by taking the difference between subsequent segment arrival and departure times.\n",
        "\n",
        "*Rationale*: Layover duration is a critical feature for understanding the overall travel experience. Long layovers can significantly impact passenger satisfaction and travel time. By calculating the total layover duration, we can better analyze and optimize flight schedules, pricing, and passenger preferences.\n"
      ]
    },
    {
      "cell_type": "code",
      "execution_count": 27,
      "metadata": {},
      "outputs": [],
      "source": [
        "def calculate_layover_duration():\n",
        "    return F.when(\n",
        "        F.size(F.split(\"segmentsDepartureTimeEpochSeconds\", \"\\\\|\\\\|\")) <= 1,\n",
        "        0.0,  # No layover for single segment\n",
        "    ).otherwise(\n",
        "        # For multiple segments:\n",
        "        # 1. Split the arrival and departure times into arrays\n",
        "        # 2. Calculate differences between next departure and previous arrival\n",
        "        # 3. Sum up the differences and convert to hours\n",
        "        # 4. Round to nearest 0.5 hours\n",
        "        F.round(\n",
        "            F.expr(\n",
        "                \"\"\"\n",
        "                (\n",
        "                    aggregate(\n",
        "                        zip_with(\n",
        "                            slice(split(segmentsDepartureTimeEpochSeconds, '\\\\\\\\|\\\\\\\\|'), 2, size(split(segmentsDepartureTimeEpochSeconds, '\\\\\\\\|\\\\\\\\|'))),\n",
        "                            slice(split(segmentsArrivalTimeEpochSeconds, '\\\\\\\\|\\\\\\\\|'), 1, size(split(segmentsArrivalTimeEpochSeconds, '\\\\\\\\|\\\\\\\\|')) - 1),\n",
        "                            (x, y) -> cast(x as double) - cast(y as double)\n",
        "                        ),\n",
        "                        0D,\n",
        "                        (acc, x) -> acc + x\n",
        "                    ) / 3600\n",
        "                ) * 2\n",
        "            \"\"\"\n",
        "            )\n",
        "        )\n",
        "        / 2\n",
        "    )"
      ]
    },
    {
      "cell_type": "markdown",
      "metadata": {},
      "source": [
        "#### **2.4. Generate Holiday Dates (±1 day buffer)**\n",
        "\n",
        "Create a list of holidays and include the day before and after to account for travel surrounding holidays"
      ]
    },
    {
      "cell_type": "code",
      "execution_count": 28,
      "metadata": {},
      "outputs": [],
      "source": [
        "holiday_data = [\n",
        "    (\"Good Friday\", \"2022-04-15\"),\n",
        "    (\"Labor Day (International)\", \"2022-05-01\"),\n",
        "    (\"Memorial Day\", \"2022-05-30\"),\n",
        "    (\"Juneteenth (observed)\", \"2022-06-20\"),\n",
        "    (\"Independence Day\", \"2022-07-04\"),\n",
        "]\n",
        "holiday_df = spark.createDataFrame(holiday_data, [\"holiday_name\", \"date\"])\n",
        "holiday_df = holiday_df.withColumn(\"date\", F.to_date(F.col(\"date\")))\n",
        "\n",
        "# Create an array of dates (holiday-1, holiday, holiday+1) for each holiday\n",
        "holiday_dates = set()\n",
        "for row in holiday_data:\n",
        "    holiday_date = F.to_date(F.lit(row[1])).cast(DateType())\n",
        "    date_val = holiday_df.select(holiday_date).collect()[0][0]\n",
        "    holiday_dates.add(date_val.strftime(\"%Y-%m-%d\"))\n",
        "    holiday_dates.add((date_val + timedelta(days=1)).strftime(\"%Y-%m-%d\"))\n",
        "    holiday_dates.add((date_val - timedelta(days=1)).strftime(\"%Y-%m-%d\"))\n",
        "holiday_dates_list = list(holiday_dates)"
      ]
    },
    {
      "cell_type": "markdown",
      "metadata": {},
      "source": [
        "#### **2.5. Select and Engineer Features from Flight Data**\n"
      ]
    },
    {
      "cell_type": "code",
      "execution_count": 29,
      "metadata": {},
      "outputs": [
        {
          "name": "stdout",
          "output_type": "stream",
          "text": [
            "+--------------------+---------+---------------+------------------+--------------+-----------+--------------+------------+--------------+----------+-------------------+------------------+------------+-------------+---------------+---+---+---+---+---+---+---+---+---+---+---+---+---+---+----------------+-------------+\n",
            "|               legid|totalFare|startingAirport|destinationAirport|travelDuration|elapsedDays|isBasicEconomy|isRefundable|seatsRemaining|isFestival|totalTravelDistance|daysUntilDeparture|dayOfTheWeek|numOfSegments|layoverDuration| UA| NK| AA| 4B| LF| B6| DL| 9K| F9| HA| 9X| AS| KG| SY|hasBusinessClass|hasFirstClass|\n",
            "+--------------------+---------+---------------+------------------+--------------+-----------+--------------+------------+--------------+----------+-------------------+------------------+------------+-------------+---------------+---+---+---+---+---+---+---+---+---+---+---+---+---+---+----------------+-------------+\n",
            "|620cd51404373b9bd...|  1028.61|            LAX|               ATL|           4.5|          0|             0|           0|             7|         0|               1943|                20|         Sat|            1|            0.0|  0|  0|  0|  0|  0|  0|  1|  0|  0|  0|  0|  0|  0|  0|               0|            0|\n",
            "|8622d132e890b398c...|    537.1|            CLT|               LAX|           8.0|          0|             0|           0|             9|         0|               2171|                52|         Fri|            3|            2.5|  0|  0|  0|  0|  0|  0|  1|  0|  0|  0|  0|  0|  0|  0|               0|            0|\n",
            "|6f419788769ddb380...|   382.21|            LGA|               ATL|          12.0|          1|             0|           0|             9|         0|               1700|                59|         Thu|            3|            6.5|  0|  0|  0|  0|  0|  0|  1|  0|  0|  0|  0|  0|  0|  0|               0|            0|\n",
            "|41f3cd0a63603895e...|    218.6|            LAX|               SFO|           1.5|          0|             0|           0|             7|         0|                339|                55|         Thu|            1|            0.0|  0|  0|  0|  0|  0|  0|  0|  0|  0|  0|  0|  1|  0|  0|               0|            0|\n",
            "|7f5d8684b672dd359...|    207.6|            LGA|               DFW|           6.5|          0|             1|           0|             9|         0|               1487|                26|         Wed|            3|            1.5|  0|  0|  0|  0|  0|  0|  1|  0|  0|  0|  0|  0|  0|  0|               0|            0|\n",
            "|5b5f142a97c3749a5...|    133.6|            DFW|               DEN|           2.0|          0|             0|           0|             9|         1|                650|                11|         Sat|            1|            0.0|  1|  0|  0|  0|  0|  0|  0|  0|  0|  0|  0|  0|  0|  0|               0|            0|\n",
            "|50cdff822b37c021f...|    625.6|            LAX|               PHL|           7.5|          0|             0|           0|             9|         0|               2417|                51|         Fri|            3|            1.0|  1|  0|  0|  0|  0|  0|  0|  0|  0|  0|  0|  0|  0|  0|               0|            0|\n",
            "|cbfd5d54c96d342db...|    127.6|            BOS|               IAD|           3.5|          0|             0|           0|             1|         1|                406|                14|         Sun|            3|            0.5|  1|  0|  0|  0|  0|  0|  0|  0|  0|  0|  0|  0|  0|  0|               0|            0|\n",
            "|6ec760aa789238e92...|    285.6|            MIA|               DFW|           3.5|          0|             0|           0|             7|         1|               1115|                 3|         Sun|            1|            0.0|  0|  0|  1|  0|  0|  0|  0|  0|  0|  0|  0|  0|  0|  0|               0|            0|\n",
            "|51d23671ceccf91a1...|    148.6|            EWR|               CLT|           2.0|          0|             1|           0|             7|         0|                545|                40|         Sat|            1|            0.0|  0|  0|  1|  0|  0|  0|  0|  0|  0|  0|  0|  0|  0|  0|               0|            0|\n",
            "|f4043f000d9a362f8...|    571.2|            ORD|               OAK|          11.5|          0|             0|           0|             9|         1|               2083|                28|         Tue|            3|            6.0|  1|  0|  0|  0|  0|  0|  1|  0|  0|  0|  0|  0|  0|  0|               0|            0|\n",
            "|1c2fe336fdc66e6fb...|    159.1|            CLT|               PHL|           5.0|          0|             0|           0|            10|         0|                469|                55|         Tue|            3|            3.0|  0|  0|  1|  0|  0|  0|  0|  0|  0|  0|  0|  0|  0|  0|               0|            0|\n",
            "|4ac9efa7de101ee75...|    541.6|            DEN|               JFK|           6.5|          0|             0|           0|             9|         0|               1623|                17|         Tue|            3|            1.0|  1|  0|  0|  0|  0|  0|  1|  0|  0|  0|  0|  0|  0|  0|               0|            0|\n",
            "|13775e38a6ccbb323...|    418.6|            JFK|               LAX|           6.0|          0|             0|           0|             9|         0|               2458|                36|         Wed|            1|            0.0|  0|  0|  0|  0|  0|  0|  1|  0|  0|  0|  0|  0|  0|  0|               0|            0|\n",
            "|9a27b2e85d4f77243...|   595.61|            JFK|               DEN|          10.0|          0|             0|           0|             9|         0|               2501|                13|         Fri|            3|            2.5|  1|  0|  0|  0|  0|  0|  1|  0|  0|  0|  0|  0|  0|  0|               0|            0|\n",
            "|c6ae58388eab0f526...|   513.61|            LAX|               JFK|           8.5|          0|             0|           0|             3|         0|               2595|                57|         Mon|            3|            2.0|  0|  0|  1|  0|  0|  0|  0|  0|  0|  0|  0|  0|  0|  0|               0|            0|\n",
            "|8ceba9d9fccbd3f42...|    363.6|            DEN|               MIA|           9.0|          0|             0|           0|             9|         0|               2295|                44|         Thu|            3|            3.0|  0|  0|  0|  0|  0|  0|  1|  0|  0|  0|  0|  0|  0|  0|               0|            0|\n",
            "|2aaf062cf028bdc0f...|    102.6|            JFK|               MIA|           8.5|          0|             1|           0|             7|         0|               1445|                12|         Tue|            3|            4.0|  0|  0|  1|  0|  0|  0|  0|  0|  0|  0|  0|  0|  0|  0|               0|            0|\n",
            "|2d27f28ea39de6e1c...|   275.58|            DFW|               EWR|           8.5|          0|             0|           0|             0|         0|               NULL|                56|         Fri|            3|            2.5|  0|  1|  0|  0|  0|  0|  0|  0|  0|  0|  0|  0|  0|  0|               0|            0|\n",
            "|a5108a83bb2960d42...|    321.6|            ORD|               LAX|           8.0|          0|             0|           0|             4|         1|               2679|                 9|         Sat|            3|            0.5|  0|  0|  0|  0|  0|  0|  0|  0|  0|  0|  0|  1|  0|  0|               0|            0|\n",
            "+--------------------+---------+---------------+------------------+--------------+-----------+--------------+------------+--------------+----------+-------------------+------------------+------------+-------------+---------------+---+---+---+---+---+---+---+---+---+---+---+---+---+---+----------------+-------------+\n",
            "only showing top 20 rows\n",
            "\n"
          ]
        }
      ],
      "source": [
        "cleaned_flight_df = flight_df.select(\n",
        "    'legid', # Keep original flight ID\n",
        "    'totalFare', # Keep original total fare\n",
        "    F.col('startingAirport').cast('string'), # ensure the string type\n",
        "    F.col('destinationAirport').cast('string'), # ensure the string type\n",
        "    \n",
        "    # Convert duration format (PT2H30M) to hours (2.5)\n",
        "    convert_duration_to_hours(F.col('travelDuration')).alias('travelDuration'),\n",
        "    \n",
        "    # ensure the integer type\n",
        "    F.col('elapsedDays').cast('int').alias('elapsedDays'),\n",
        "    \n",
        "    # Convert boolean 'true'/'false' strings to 1/0 integers\n",
        "    F.when(F.col('isBasicEconomy') == 'true', 1).otherwise(0).cast('int').alias('isBasicEconomy'),\n",
        "    F.when(F.col('isRefundable') == 'true', 1).otherwise(0).cast('int').alias('isRefundable'),\n",
        "    F.col('seatsRemaining').cast('int').alias('seatsRemaining'),\n",
        "    \n",
        "     # Check if flight date is within ±1 day of holidays\n",
        "    F.when(\n",
        "        F.date_format('flightDate', 'yyyy-MM-dd').isin(holiday_dates_list),\n",
        "        1\n",
        "    ).otherwise(0).cast('int').alias('isFestival'),\n",
        "    \n",
        "    # Calculate total distance (use segments if total not available)\n",
        "    'totalTravelDistance', # Keep original total travel distance\n",
        "    \n",
        "    # Calculate days between search and flight date\n",
        "    F.datediff(F.col('flightDate'), F.col('searchDate')).cast('int').alias('daysUntilDeparture'),\n",
        "    \n",
        "    # Extract day of week (Mon, Tue, etc.)\n",
        "    F.date_format(F.col('flightDate'), 'E').alias('dayOfTheWeek'),\n",
        "    \n",
        "    # Count number of flight segments (1 if no '||', else count + 1)\n",
        "    F.when(F.col('segmentsDistance').contains('||'),\n",
        "           F.size(F.split('segmentsDistance', '\\\\|\\\\|')) + 1\n",
        "    ).otherwise(1).cast('int').alias('numOfSegments'),\n",
        "    \n",
        "     # Calculate total layover time between segments\n",
        "    calculate_layover_duration().alias('layoverDuration'),\n",
        "    \n",
        "    # Create binary indicators (1/0) for each airline's presence in the journey\n",
        "    *[F.when(F.col('segmentsAirlineCode').contains(code), 1).otherwise(0).cast('int').alias(code)\n",
        "      for code in ['UA','NK','AA','4B','LF','B6','DL','9K','F9','HA','9X','AS','KG','SY']],\n",
        "    # F.when(F.col('segmentsAirlineCode').contains('UA'), 1).otherwise(0).cast('int').alias('UA'),\n",
        "    # F.when(F.col('segmentsAirlineCode').contains('NK'), 1).otherwise(0).cast('int').alias('NK'),\n",
        "    # F.when(F.col('segmentsAirlineCode').contains('AA'), 1).otherwise(0).cast('int').alias('AA'),\n",
        "    # F.when(F.col('segmentsAirlineCode').contains('4B'), 1).otherwise(0).cast('int').alias('4B'),\n",
        "    # F.when(F.col('segmentsAirlineCode').contains('LF'), 1).otherwise(0).cast('int').alias('LF'),\n",
        "    # F.when(F.col('segmentsAirlineCode').contains('B6'), 1).otherwise(0).cast('int').alias('B6'),\n",
        "    # F.when(F.col('segmentsAirlineCode').contains('DL'), 1).otherwise(0).cast('int').alias('DL'),\n",
        "    # F.when(F.col('segmentsAirlineCode').contains('9K'), 1).otherwise(0).cast('int').alias('9K'),\n",
        "    # F.when(F.col('segmentsAirlineCode').contains('F9'), 1).otherwise(0).cast('int').alias('F9'),\n",
        "    # F.when(F.col('segmentsAirlineCode').contains('HA'), 1).otherwise(0).cast('int').alias('HA'),\n",
        "    # F.when(F.col('segmentsAirlineCode').contains('9X'), 1).otherwise(0).cast('int').alias('9X'),\n",
        "    # F.when(F.col('segmentsAirlineCode').contains('AS'), 1).otherwise(0).cast('int').alias('AS'),\n",
        "    # F.when(F.col('segmentsAirlineCode').contains('KG'), 1).otherwise(0).cast('int').alias('KG'),\n",
        "    # F.when(F.col('segmentsAirlineCode').contains('SY'), 1).otherwise(0).cast('int').alias('SY'),\n",
        "    F.array_contains(F.split(F.col('segmentsCabinCode'), '\\\\|'), 'business').cast('int').alias('hasBusinessClass'),\n",
        "    F.array_contains(F.split(F.col('segmentsCabinCode'), '\\\\|'), 'first').cast('int').alias('hasFirstClass'),\n",
        ")\n",
        "cleaned_flight_df.show()"
      ]
    },
    {
      "cell_type": "markdown",
      "metadata": {},
      "source": [
        "# 3 EDA on Processed Data"
      ]
    },
    {
      "cell_type": "markdown",
      "metadata": {},
      "source": [
        "### Distribution of Categorical Columns"
      ]
    },
    {
      "cell_type": "code",
      "execution_count": null,
      "metadata": {},
      "outputs": [],
      "source": [
        "categorical_cols = ['startingAirport', 'destinationAirport', 'isBasicEconomy', 'isRefundable', 'isNonStop']\n",
        "\n",
        "def explore_categorical(df, column):\n",
        "    category_counts = df.groupBy(column).agg(F.count(\"*\").alias(\"count\")).orderBy(F.col(\"count\").desc())\n",
        "    category_counts.show(5, truncate=False) # Show top 5 categories\n",
        "\n",
        "# Explore frequency counts for categorical columns\n",
        "for col_name in categorical_cols:\n",
        "    explore_categorical(flight_df, col_name) \n",
        "\n",
        "# Fare Distribution by Airline\n",
        "if 'segmentsAirlineCode' in flight_df.columns:\n",
        "    # Extract the first airline code for each flight\n",
        "    flight_df = flight_df.withColumn('primaryAirline', F.split(F.col('segmentsAirlineCode'), r'\\|\\|').getItem(0)) \n",
        "    \n",
        "    # Calculate fare statistics by airline\n",
        "    airline_stats = flight_df.groupBy(\"primaryAirline\").agg(\n",
        "        F.count(\"*\").alias(\"count\"),\n",
        "        F.mean(\"baseFare\").alias(\"mean_fare\"),\n",
        "        F.stddev(\"baseFare\").alias(\"stddev_fare\"),\n",
        "        F.min(\"baseFare\").alias(\"min_fare\"),\n",
        "        F.max(\"baseFare\").alias(\"max_fare\"),\n",
        "        F.percentile_approx(\"baseFare\", [0.25, 0.5, 0.75], 10000).alias(\"percentiles\")\n",
        "    ).orderBy(F.col(\"count\").desc())\n",
        "    "
      ]
    },
    {
      "cell_type": "code",
      "execution_count": null,
      "metadata": {},
      "outputs": [],
      "source": [
        "# Filter out rows with inconsistent 'numSegments' for the same 'airportPair'\n",
        "numerical_cols = [col for col, dtype in flight_df.dtypes if dtype in (\"int\", \"double\")]\n",
        "\n",
        "for col_name in numerical_cols:\n",
        "    stats = flight_df.select(\n",
        "        F.mean(F.col(col_name)).alias(\"mean\"),\n",
        "        F.stddev(F.col(col_name)).alias(\"stddev\"),\n",
        "        F.min(F.col(col_name)).alias(\"min\"),\n",
        "        F.max(F.col(col_name)).alias(\"max\"),\n",
        "        F.percentile_approx(F.col(col_name), [0.25, 0.5, 0.75], 10000).alias(\n",
        "            \"percentiles\"\n",
        "        ),\n",
        "    ).collect()[0]\n",
        "\n",
        "    mean_val = stats[\"mean\"]\n",
        "    stddev_val = stats[\"stddev\"]\n",
        "    min_val = stats[\"min\"]\n",
        "    max_val = stats[\"max\"]\n",
        "    percentiles = stats[\"percentiles\"]\n",
        "\n",
        "    bin_width = (max_val - min_val) / 10\n",
        "    bins = [min_val + i * bin_width for i in range(11)]\n",
        "\n",
        "    for i in range(10):\n",
        "        lower = bins[i]\n",
        "        upper = bins[i + 1]\n",
        "        count = flight_df.filter(\n",
        "            (F.col(col_name) >= lower) & (F.col(col_name) < upper)\n",
        "        ).count()\n",
        "\n",
        "\n",
        "# Function to collect data for visualization\n",
        "def collect_data_for_viz(df, columns, limit=10000):\n",
        "    return df.select(columns).limit(limit).collect()\n",
        "\n",
        "\n",
        "# Create histogram visualization for totalFare using PySpark\n",
        "# Get min, max, and use PySpark to count frequencies in bins\n",
        "min_max = flight_df.select(F.min(\"totalFare\"), F.max(\"totalFare\")).collect()[0]\n",
        "min_fare, max_fare = min_max[0], min_max[1]\n",
        "num_bins = 30\n",
        "bin_width = (max_fare - min_fare) / num_bins\n",
        "\n",
        "# Create bins and count records in each bin\n",
        "bins = []\n",
        "counts = []\n",
        "for i in range(num_bins):\n",
        "    lower = min_fare + i * bin_width\n",
        "    upper = min_fare + (i + 1) * bin_width\n",
        "    count = flight_df.filter(\n",
        "        (F.col(\"totalFare\") >= lower) & (F.col(\"totalFare\") < upper)\n",
        "    ).count()\n",
        "    bins.append((lower + upper) / 2)  # Use bin center for x-axis\n",
        "    counts.append(count)\n",
        "\n",
        "# Create histogram with matplotlib\n",
        "fig, ax = plt.subplots(figsize=(10, 6))\n",
        "ax.bar(bins, counts, width=bin_width * 0.8)\n",
        "ax.set_xlabel(\"Total Fare (USD)\")\n",
        "ax.set_ylabel(\"Frequency\")\n",
        "ax.set_title(\"Histogram of Total Fare\")\n",
        "ax.grid(alpha=0.3)\n",
        "\n",
        "# Display histogram\n",
        "plt.tight_layout()\n",
        "plt.show()"
      ]
    },
    {
      "cell_type": "code",
      "execution_count": null,
      "metadata": {},
      "outputs": [],
      "source": [
        "# Create fare comparison for direct vs. connecting flights\n",
        "if 'isNonStop' in flight_df.columns and 'baseFare' in flight_df.columns: \n",
        "    \n",
        "    # Group data by flight type\n",
        "    flight_types = flight_df.groupBy(\"isNonStop\") \\\n",
        "                         .agg(\n",
        "                             F.count(\"*\").alias(\"count\"),\n",
        "                             F.avg(\"baseFare\").alias(\"avgFare\"),\n",
        "                             F.stddev(\"baseFare\").alias(\"stddevFare\")\n",
        "                         ) \\\n",
        "                         .collect()\n",
        "    \n",
        "    # Extract data\n",
        "    labels = [f\"{'Direct' if row['isNonStop'] else 'Connecting'} Flights\" for row in flight_types]\n",
        "    avg_fares = [row[\"avgFare\"] for row in flight_types]\n",
        "    std_fares = [row[\"stddevFare\"] if row[\"stddevFare\"] is not None else 0 for row in flight_types]\n",
        "    \n",
        "    # Create bar chart with error bars\n",
        "    fig, ax = plt.subplots(figsize=(10, 6))\n",
        "    ax.bar(labels, avg_fares, yerr=std_fares, capsize=10, alpha=0.7)\n",
        "    ax.set_title('Average Fare Comparison: Direct vs. Connecting Flights')\n",
        "    ax.set_ylabel('Average Base Fare (USD)')\n",
        "    ax.grid(axis='y', alpha=0.3)\n",
        "    \n",
        "    # Add value labels on top of bars\n",
        "    for i, v in enumerate(avg_fares):\n",
        "        ax.text(i, v + 5, f\"${v:.2f}\", ha='center')\n",
        "    \n",
        "    plt.tight_layout()\n",
        "    plt.show() \n",
        "    \n",
        "    # Extract data for boxplot\n",
        "    seat_labels = [row[\"seatGroup\"] for row in seat_stats] # need to fix this part\n",
        "    boxplot_data = []\n",
        "    for row in seat_stats:\n",
        "        q1, median, q3 = row[\"percentiles\"]\n",
        "        min_val, max_val = row[\"minFare\"], row[\"maxFare\"]\n",
        "        boxplot_data.append([min_val, q1, median, q3, max_val])\n",
        "    \n",
        "    # Create boxplot\n",
        "    fig, ax = plt.subplots(figsize=(10, 6))\n",
        "    ax.boxplot(boxplot_data, labels=seat_labels, vert=True)\n",
        "    ax.set_title('Base Fare Distribution by Seats Remaining')\n",
        "    ax.set_xlabel('Seats Remaining')\n",
        "    ax.set_ylabel('Base Fare (USD)')\n",
        "    ax.grid(axis='y', alpha=0.3)\n",
        "    \n",
        "    plt.tight_layout()\n",
        "    plt.show()\n",
        "\n",
        "# 10. Create a heatmap of day-to-flight price correlation\n",
        "if 'elapsedDays' in flight_df.columns and 'baseFare' in flight_df.columns: \n",
        "    \n",
        "    # Make sure elapsedDays is numeric\n",
        "    numeric_df = flight_df.filter(F.col(\"elapsedDays\").isNotNull())\n",
        "    \n",
        "    # Group by days before flight\n",
        "    elapsed_stats = numeric_df.groupBy(\"elapsedDays\") \\\n",
        "                           .agg(F.avg(\"baseFare\").alias(\"avgFare\")) \\\n",
        "                           .orderBy(\"elapsedDays\") \\\n",
        "                           .collect()\n",
        "    \n",
        "    # Extract data\n",
        "    elapsed_days = [row[\"elapsedDays\"] for row in elapsed_stats]\n",
        "    avg_fares = [row[\"avgFare\"] for row in elapsed_stats]\n",
        "    \n",
        "    # Create line chart\n",
        "    fig, ax = plt.subplots(figsize=(12, 6))\n",
        "    ax.plot(elapsed_days, avg_fares, marker='o', linestyle='-', linewidth=2)\n",
        "    ax.set_title('Average Fare vs. Days Before Flight')\n",
        "    ax.set_xlabel('Days Before Flight')\n",
        "    ax.set_ylabel('Average Base Fare (USD)')\n",
        "    ax.grid(True, alpha=0.3)\n",
        "    \n",
        "    # Add trend line\n",
        "    if len(elapsed_days) > 1:\n",
        "        z = np.polyfit(elapsed_days, avg_fares, 1)\n",
        "        p = np.poly1d(z)\n",
        "        ax.plot(elapsed_days, p(elapsed_days), \"r--\", linewidth=2)\n",
        "        \n",
        "        # Add trend direction annotation\n",
        "        trend = \"increases\" if z[0] > 0 else \"decreases\"\n",
        "        ax.text(0.05, 0.95, f\"Trend: Price {trend} by ${abs(z[0]):.2f} per day\", \n",
        "                transform=ax.transAxes, fontsize=12, verticalalignment='top',\n",
        "                bbox=dict(boxstyle='round', facecolor='white', alpha=0.8))\n",
        "    \n",
        "    plt.tight_layout()\n",
        "    plt.show()"
      ]
    },
    {
      "cell_type": "code",
      "execution_count": null,
      "metadata": {},
      "outputs": [],
      "source": [
        "# Select only numeric columns\n",
        "numeric_cols = [col for col, dtype in flight_df.dtypes if dtype in ('int', 'double')]\n",
        "\n",
        "# Plot histograms directly from PySpark DataFrame\n",
        "plt.figure(figsize=(12, 8))\n",
        "\n",
        "for i, col_name in enumerate(numeric_cols, 1):\n",
        "    plt.subplot(2, 3, i)  # Creates a grid of subplots\n",
        "\n",
        "    # Collect data from PySpark DataFrame\n",
        "    data = flight_df.select(col_name).rdd.flatMap(lambda x: x).filter(lambda x: x is not None).collect()\n",
        "\n",
        "    # Plot histogram\n",
        "    plt.hist(data, bins=30, alpha=0.7, edgecolor='black')\n",
        "    plt.title(f\"Distribution of {col_name}\")\n",
        "\n",
        "plt.tight_layout()\n",
        "plt.show()"
      ]
    },
    {
      "cell_type": "code",
      "execution_count": null,
      "metadata": {},
      "outputs": [],
      "source": [
        "# Select only numeric columns and convert to double\n",
        "numeric_cols = [col for col, dtype in flight_df.dtypes if dtype in ('int', 'double')]\n",
        "\n",
        "# Convert integer columns to double (required for Correlation.corr)\n",
        "for col_name in numeric_cols:\n",
        "    flight_df = flight_df.withColumn(col_name, col(col_name).cast(\"double\"))\n",
        "\n",
        "# Assemble numeric columns into a feature vector\n",
        "vector_col = \"features\"\n",
        "assembler = VectorAssembler(inputCols=numeric_cols, outputCol=vector_col)\n",
        "df_vector = assembler.transform(flight_df).select(vector_col)\n",
        "\n",
        "# Compute correlation matrix\n",
        "correlation_matrix = Correlation.corr(df_vector, vector_col).head()[0].toArray()\n",
        "\n",
        "# Plot heatmap directly\n",
        "plt.figure(figsize=(10, 8))\n",
        "sns.heatmap(correlation_matrix, annot=True, cmap=\"coolwarm\", fmt=\".2f\",\n",
        "            xticklabels=numeric_cols, yticklabels=numeric_cols)\n",
        "\n",
        "plt.title(\"Correlation Matrix\")\n",
        "plt.show()"
      ]
    },
    {
      "cell_type": "markdown",
      "metadata": {},
      "source": [
        "# 4 Feature selection"
      ]
    },
    {
      "cell_type": "code",
      "execution_count": null,
      "metadata": {},
      "outputs": [],
      "source": [
        "# use correlation matrix and PCA?"
      ]
    },
    {
      "cell_type": "markdown",
      "metadata": {},
      "source": [
        "# 5 ML algos"
      ]
    },
    {
      "cell_type": "markdown",
      "metadata": {},
      "source": [
        "### Machine Learning Models below"
      ]
    },
    {
      "cell_type": "markdown",
      "metadata": {},
      "source": [
        "### Linear Regression\n",
        "\n",
        "\n",
        "reminder to include a summary of the results "
      ]
    },
    {
      "cell_type": "markdown",
      "metadata": {},
      "source": [
        "### Polynomial Regression"
      ]
    },
    {
      "cell_type": "markdown",
      "metadata": {},
      "source": [
        "### Random Forest"
      ]
    },
    {
      "cell_type": "markdown",
      "metadata": {},
      "source": [
        "### Gradient Boosting (XGBoost)"
      ]
    },
    {
      "cell_type": "markdown",
      "metadata": {},
      "source": [
        "### Neural Network"
      ]
    },
    {
      "cell_type": "markdown",
      "metadata": {},
      "source": [
        "### Validation of models using K-Fold, time-based split"
      ]
    }
  ],
  "metadata": {
    "colab": {
      "authorship_tag": "ABX9TyM4Wwpe7ypLEAKixPaLLfeR",
      "include_colab_link": true,
      "mount_file_id": "1PNG4ZbI139H3Z8xFCrQqFKbsLvJ4ZQCT",
      "provenance": []
    },
    "kernelspec": {
      "display_name": "base",
      "language": "python",
      "name": "python3"
    },
    "language_info": {
      "codemirror_mode": {
        "name": "ipython",
        "version": 3
      },
      "file_extension": ".py",
      "mimetype": "text/x-python",
      "name": "python",
      "nbconvert_exporter": "python",
      "pygments_lexer": "ipython3",
      "version": "3.9.13"
    }
  },
  "nbformat": 4,
  "nbformat_minor": 0
}
